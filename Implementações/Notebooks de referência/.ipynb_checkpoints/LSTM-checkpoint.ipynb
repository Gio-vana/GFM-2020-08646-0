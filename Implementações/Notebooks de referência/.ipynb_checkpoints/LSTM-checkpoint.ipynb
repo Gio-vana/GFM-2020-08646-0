{
 "cells": [
  {
   "cell_type": "markdown",
   "metadata": {},
   "source": [
    "# Parte 1: Previsão de Preços"
   ]
  },
  {
   "cell_type": "code",
   "execution_count": 1,
   "metadata": {},
   "outputs": [
    {
     "name": "stderr",
     "output_type": "stream",
     "text": [
      "Using TensorFlow backend.\n"
     ]
    }
   ],
   "source": [
    "from keras.models import Sequential\n",
    "from keras.layers import Dense, Dropout, LSTM\n",
    "from sklearn.preprocessing import MinMaxScaler\n",
    "import numpy as np\n",
    "import pandas as pd\n",
    "import matplotlib.pyplot as plt\n",
    "from sklearn.metrics import confusion_matrix, accuracy_score, classification_report\n",
    "from sklearn import svm"
   ]
  },
  {
   "cell_type": "markdown",
   "metadata": {},
   "source": [
    "### Criando a base de dados de treinamento"
   ]
  },
  {
   "cell_type": "code",
   "execution_count": 92,
   "metadata": {},
   "outputs": [],
   "source": [
    "base_petr4 = pd.read_csv('/home/giovana/Área de Trabalho/Dados/PETR4.SA_treinamento.csv')\n",
    "base_petr4 = base_petr4.dropna()\n",
    "base_usim5 = pd.read_csv('/home/giovana/Área de Trabalho/Dados/USIM5.SA_treinamento.csv')\n",
    "base_usim5 = base_usim5.dropna()\n",
    "base_bbas3 = pd.read_csv('/home/giovana/Área de Trabalho/Dados/BBAS3.SA_treinamento.csv')\n",
    "base_bbas3 = base_bbas3.dropna()"
   ]
  },
  {
   "cell_type": "code",
   "execution_count": 94,
   "metadata": {},
   "outputs": [
    {
     "data": {
      "text/plain": [
       "((222, 7), (222, 7), (222, 7))"
      ]
     },
     "execution_count": 94,
     "metadata": {},
     "output_type": "execute_result"
    }
   ],
   "source": [
    "base_petr4.shape, base_usim5.shape, base_bbas3.shape"
   ]
  },
  {
   "cell_type": "markdown",
   "metadata": {},
   "source": [
    "### Separando a coluna utilizada na previsão (Open)"
   ]
  },
  {
   "cell_type": "code",
   "execution_count": 95,
   "metadata": {},
   "outputs": [],
   "source": [
    "base_treinamento_petr4 = base_petr4.iloc[:, 1:2].values\n",
    "base_treinamento_usim5 = base_usim5.iloc[:, 1:2].values\n",
    "base_treinamento_bbas3 = base_bbas3.iloc[:, 1:2].values"
   ]
  },
  {
   "cell_type": "code",
   "execution_count": 120,
   "metadata": {},
   "outputs": [
    {
     "data": {
      "text/plain": [
       "(222, 222, 222)"
      ]
     },
     "execution_count": 120,
     "metadata": {},
     "output_type": "execute_result"
    }
   ],
   "source": [
    "len(base_treinamento_petr4), len(base_treinamento_usim5), len(base_treinamento_bbas3)"
   ]
  },
  {
   "cell_type": "markdown",
   "metadata": {},
   "source": [
    "### Criando o normalizador e normalizando os dados"
   ]
  },
  {
   "cell_type": "code",
   "execution_count": 96,
   "metadata": {},
   "outputs": [],
   "source": [
    "normalizador = MinMaxScaler(feature_range=(0,1))\n",
    "base_treinamento_petr4_normalizada = normalizador.fit_transform(base_treinamento_petr4)\n",
    "base_treinamento_usim5_normalizada = normalizador.fit_transform(base_treinamento_usim5)\n",
    "base_treinamento_bbas3_normalizada = normalizador.fit_transform(base_treinamento_bbas3)"
   ]
  },
  {
   "cell_type": "code",
   "execution_count": 121,
   "metadata": {},
   "outputs": [
    {
     "data": {
      "text/plain": [
       "(222, 222, 222)"
      ]
     },
     "execution_count": 121,
     "metadata": {},
     "output_type": "execute_result"
    }
   ],
   "source": [
    "len(base_treinamento_petr4_normalizada), len(base_treinamento_usim5_normalizada), len(base_treinamento_bbas3_normalizada)"
   ]
  },
  {
   "cell_type": "markdown",
   "metadata": {},
   "source": [
    "### Criando os previsores utilizados para a previsão de cada preço de abertura "
   ]
  },
  {
   "cell_type": "markdown",
   "metadata": {},
   "source": [
    "Para trabalhar com séries temporais é preciso definir o intervalo de tempo utizado para a previsão de cada dado. Por exemplo, para prever o dado 4, serão utilizados os dados 1, 2 e 3."
   ]
  },
  {
   "cell_type": "code",
   "execution_count": 97,
   "metadata": {},
   "outputs": [],
   "source": [
    "# PETR4\n",
    "previsores_petr4 = []\n",
    "preco_real_petr4 = []\n",
    "for i in range(90, 222):\n",
    "    previsores_petr4.append(base_treinamento_petr4_normalizada[i-90:i, 0])\n",
    "    preco_real_petr4.append(base_treinamento_petr4_normalizada[i, 0])\n",
    "    \n",
    "# USIM5\n",
    "previsores_usim5 = []\n",
    "preco_real_usim5 = []\n",
    "for j in range(90, 222):\n",
    "    previsores_usim5.append(base_treinamento_usim5_normalizada[j-90:j, 0])\n",
    "    preco_real_usim5.append(base_treinamento_usim5_normalizada[j, 0])\n",
    "    \n",
    "# BBAS3\n",
    "previsores_bbas3 = []\n",
    "preco_real_bbas3 = []\n",
    "for k in range(90, 222):\n",
    "    previsores_bbas3.append(base_treinamento_bbas3_normalizada[k-90:k, 0])\n",
    "    preco_real_bbas3.append(base_treinamento_bbas3_normalizada[k, 0])"
   ]
  },
  {
   "cell_type": "code",
   "execution_count": 124,
   "metadata": {},
   "outputs": [
    {
     "data": {
      "text/plain": [
       "((132, 90, 1), (132, 90, 1), (132, 90, 1))"
      ]
     },
     "execution_count": 124,
     "metadata": {},
     "output_type": "execute_result"
    }
   ],
   "source": [
    "previsores_petr4.shape, previsores_usim5.shape, previsores_bbas3.shape"
   ]
  },
  {
   "cell_type": "markdown",
   "metadata": {},
   "source": [
    "### Transformando da lista de previsores em um array, assim como os preços reais"
   ]
  },
  {
   "cell_type": "code",
   "execution_count": 125,
   "metadata": {},
   "outputs": [],
   "source": [
    "previsores_petr4, preco_real_petr4 = np.array(previsores_petr4), np.array(preco_real_petr4)\n",
    "previsores_usim5, preco_real_usim5 = np.array(previsores_usim5), np.array(preco_real_usim5)\n",
    "previsores_bbas3, preco_real_bbas3 = np.array(previsores_bbas3), np.array(preco_real_bbas3)"
   ]
  },
  {
   "cell_type": "markdown",
   "metadata": {},
   "source": [
    "### Colocar a base de previsores no formato de entrada exigido pelo Keras"
   ]
  },
  {
   "cell_type": "markdown",
   "metadata": {},
   "source": [
    "__argumentos__: \n",
    "- batch_size: nº de registros\n",
    "\n",
    "- time_steps: nº de dias de previsão\n",
    "\n",
    "- input_dim: nº de atributos previstos\n",
    "                     "
   ]
  },
  {
   "cell_type": "code",
   "execution_count": 99,
   "metadata": {},
   "outputs": [],
   "source": [
    "previsores_petr4 = np.reshape(previsores_petr4, (previsores_petr4.shape[0], previsores_petr4.shape[1], 1))\n",
    "previsores_usim5 = np.reshape(previsores_usim5, (previsores_usim5.shape[0], previsores_usim5.shape[1], 1))\n",
    "previsores_bbas3 = np.reshape(previsores_bbas3, (previsores_bbas3.shape[0], previsores_bbas3.shape[1], 1))"
   ]
  },
  {
   "cell_type": "markdown",
   "metadata": {},
   "source": [
    "### Criando a estrutura de uma rede com 4 camadas:"
   ]
  },
  {
   "cell_type": "markdown",
   "metadata": {},
   "source": [
    "- __units__: nº de células de memória (quanto maior o número, melhor capturada a tendência ao longo do tempo\n",
    "\n",
    "- __return_sequences = True__: indica a existência de mais uma camada LSTM, o que também indica que o neurônio se \"autoalimenta\" com as informações, não apenas passando-as adiante\n",
    "\n",
    "- __input_shape__: dimensão do conjunto de entrada"
   ]
  },
  {
   "cell_type": "code",
   "execution_count": 183,
   "metadata": {},
   "outputs": [
    {
     "name": "stdout",
     "output_type": "stream",
     "text": [
      "Epoch 1/100\n",
      "132/132 [==============================] - 2s 14ms/step - loss: 0.1161 - mean_absolute_error: 0.2862\n",
      "Epoch 2/100\n",
      "132/132 [==============================] - 0s 3ms/step - loss: 0.0347 - mean_absolute_error: 0.1549\n",
      "Epoch 3/100\n",
      "132/132 [==============================] - 1s 4ms/step - loss: 0.0258 - mean_absolute_error: 0.1298\n",
      "Epoch 4/100\n",
      "132/132 [==============================] - 1s 4ms/step - loss: 0.0165 - mean_absolute_error: 0.1038\n",
      "Epoch 5/100\n",
      "132/132 [==============================] - 1s 4ms/step - loss: 0.0169 - mean_absolute_error: 0.1050\n",
      "Epoch 6/100\n",
      "132/132 [==============================] - 0s 4ms/step - loss: 0.0226 - mean_absolute_error: 0.1200\n",
      "Epoch 7/100\n",
      "132/132 [==============================] - 1s 4ms/step - loss: 0.0148 - mean_absolute_error: 0.0943\n",
      "Epoch 8/100\n",
      "132/132 [==============================] - 1s 5ms/step - loss: 0.0194 - mean_absolute_error: 0.1096\n",
      "Epoch 9/100\n",
      "132/132 [==============================] - 0s 3ms/step - loss: 0.0219 - mean_absolute_error: 0.1195\n",
      "Epoch 10/100\n",
      "132/132 [==============================] - 1s 4ms/step - loss: 0.0124 - mean_absolute_error: 0.0895\n",
      "Epoch 11/100\n",
      "132/132 [==============================] - 0s 3ms/step - loss: 0.0139 - mean_absolute_error: 0.0950\n",
      "Epoch 12/100\n",
      "132/132 [==============================] - 0s 3ms/step - loss: 0.0292 - mean_absolute_error: 0.1361\n",
      "Epoch 13/100\n",
      "132/132 [==============================] - 0s 3ms/step - loss: 0.0107 - mean_absolute_error: 0.0863\n",
      "Epoch 14/100\n",
      "132/132 [==============================] - 0s 3ms/step - loss: 0.0125 - mean_absolute_error: 0.0901\n",
      "Epoch 15/100\n",
      "132/132 [==============================] - 0s 3ms/step - loss: 0.0123 - mean_absolute_error: 0.0905\n",
      "Epoch 16/100\n",
      "132/132 [==============================] - 0s 3ms/step - loss: 0.0107 - mean_absolute_error: 0.0798\n",
      "Epoch 17/100\n",
      "132/132 [==============================] - 0s 3ms/step - loss: 0.0144 - mean_absolute_error: 0.0975\n",
      "Epoch 18/100\n",
      "132/132 [==============================] - 1s 4ms/step - loss: 0.0104 - mean_absolute_error: 0.0794\n",
      "Epoch 19/100\n",
      "132/132 [==============================] - 0s 3ms/step - loss: 0.0109 - mean_absolute_error: 0.0831\n",
      "Epoch 20/100\n",
      "132/132 [==============================] - 0s 4ms/step - loss: 0.0238 - mean_absolute_error: 0.1294\n",
      "Epoch 21/100\n",
      "132/132 [==============================] - 1s 5ms/step - loss: 0.0129 - mean_absolute_error: 0.0889\n",
      "Epoch 22/100\n",
      "132/132 [==============================] - 1s 4ms/step - loss: 0.0111 - mean_absolute_error: 0.0847\n",
      "Epoch 23/100\n",
      "132/132 [==============================] - 0s 4ms/step - loss: 0.0105 - mean_absolute_error: 0.0802\n",
      "Epoch 24/100\n",
      "132/132 [==============================] - 0s 4ms/step - loss: 0.0130 - mean_absolute_error: 0.0936\n",
      "Epoch 25/100\n",
      "132/132 [==============================] - 1s 4ms/step - loss: 0.0100 - mean_absolute_error: 0.0783\n",
      "Epoch 26/100\n",
      "132/132 [==============================] - 1s 4ms/step - loss: 0.0097 - mean_absolute_error: 0.0775\n",
      "Epoch 27/100\n",
      "132/132 [==============================] - 0s 4ms/step - loss: 0.0100 - mean_absolute_error: 0.0762\n",
      "Epoch 28/100\n",
      "132/132 [==============================] - 1s 4ms/step - loss: 0.0139 - mean_absolute_error: 0.0932\n",
      "Epoch 29/100\n",
      "132/132 [==============================] - 1s 4ms/step - loss: 0.0202 - mean_absolute_error: 0.1127\n",
      "Epoch 30/100\n",
      "132/132 [==============================] - 1s 5ms/step - loss: 0.0118 - mean_absolute_error: 0.0842\n",
      "Epoch 31/100\n",
      "132/132 [==============================] - 1s 4ms/step - loss: 0.0116 - mean_absolute_error: 0.0824\n",
      "Epoch 32/100\n",
      "132/132 [==============================] - 1s 4ms/step - loss: 0.0135 - mean_absolute_error: 0.0897\n",
      "Epoch 33/100\n",
      "132/132 [==============================] - 1s 4ms/step - loss: 0.0133 - mean_absolute_error: 0.0856\n",
      "Epoch 34/100\n",
      "132/132 [==============================] - 0s 4ms/step - loss: 0.0150 - mean_absolute_error: 0.0958\n",
      "Epoch 35/100\n",
      "132/132 [==============================] - 0s 4ms/step - loss: 0.0192 - mean_absolute_error: 0.1079\n",
      "Epoch 36/100\n",
      "132/132 [==============================] - 0s 4ms/step - loss: 0.0117 - mean_absolute_error: 0.0833\n",
      "Epoch 37/100\n",
      "132/132 [==============================] - 1s 4ms/step - loss: 0.0100 - mean_absolute_error: 0.0784\n",
      "Epoch 38/100\n",
      "132/132 [==============================] - 1s 4ms/step - loss: 0.0099 - mean_absolute_error: 0.0740\n",
      "Epoch 39/100\n",
      "132/132 [==============================] - 1s 5ms/step - loss: 0.0091 - mean_absolute_error: 0.0713\n",
      "Epoch 40/100\n",
      "132/132 [==============================] - 1s 5ms/step - loss: 0.0162 - mean_absolute_error: 0.1001\n",
      "Epoch 41/100\n",
      "132/132 [==============================] - 1s 4ms/step - loss: 0.0102 - mean_absolute_error: 0.0796\n",
      "Epoch 42/100\n",
      "132/132 [==============================] - 0s 3ms/step - loss: 0.0114 - mean_absolute_error: 0.0853\n",
      "Epoch 43/100\n",
      "132/132 [==============================] - 0s 3ms/step - loss: 0.0130 - mean_absolute_error: 0.0930\n",
      "Epoch 44/100\n",
      "132/132 [==============================] - 1s 7ms/step - loss: 0.0119 - mean_absolute_error: 0.0865\n",
      "Epoch 45/100\n",
      "132/132 [==============================] - 1s 5ms/step - loss: 0.0093 - mean_absolute_error: 0.0765\n",
      "Epoch 46/100\n",
      "132/132 [==============================] - 1s 5ms/step - loss: 0.0091 - mean_absolute_error: 0.0759\n",
      "Epoch 47/100\n",
      "132/132 [==============================] - 1s 6ms/step - loss: 0.0142 - mean_absolute_error: 0.0941\n",
      "Epoch 48/100\n",
      "132/132 [==============================] - 1s 4ms/step - loss: 0.0153 - mean_absolute_error: 0.1005\n",
      "Epoch 49/100\n",
      "132/132 [==============================] - 0s 4ms/step - loss: 0.0093 - mean_absolute_error: 0.0752\n",
      "Epoch 50/100\n",
      "132/132 [==============================] - 1s 4ms/step - loss: 0.0085 - mean_absolute_error: 0.0691\n",
      "Epoch 51/100\n",
      "132/132 [==============================] - 0s 4ms/step - loss: 0.0099 - mean_absolute_error: 0.0795\n",
      "Epoch 52/100\n",
      "132/132 [==============================] - 0s 3ms/step - loss: 0.0096 - mean_absolute_error: 0.0729\n",
      "Epoch 53/100\n",
      "132/132 [==============================] - 0s 3ms/step - loss: 0.0101 - mean_absolute_error: 0.0776\n",
      "Epoch 54/100\n",
      "132/132 [==============================] - 0s 4ms/step - loss: 0.0124 - mean_absolute_error: 0.0887\n",
      "Epoch 55/100\n",
      "132/132 [==============================] - 0s 3ms/step - loss: 0.0176 - mean_absolute_error: 0.1140\n",
      "Epoch 56/100\n",
      "132/132 [==============================] - 0s 3ms/step - loss: 0.0092 - mean_absolute_error: 0.0755\n",
      "Epoch 57/100\n",
      "132/132 [==============================] - 0s 3ms/step - loss: 0.0097 - mean_absolute_error: 0.0797\n",
      "Epoch 58/100\n",
      "132/132 [==============================] - 0s 4ms/step - loss: 0.0096 - mean_absolute_error: 0.0745\n",
      "Epoch 59/100\n",
      "132/132 [==============================] - 0s 3ms/step - loss: 0.0099 - mean_absolute_error: 0.0784\n",
      "Epoch 60/100\n",
      "132/132 [==============================] - 0s 3ms/step - loss: 0.0090 - mean_absolute_error: 0.0699\n",
      "Epoch 61/100\n",
      "132/132 [==============================] - 0s 4ms/step - loss: 0.0139 - mean_absolute_error: 0.0973\n",
      "Epoch 62/100\n",
      "132/132 [==============================] - 0s 3ms/step - loss: 0.0108 - mean_absolute_error: 0.0774\n",
      "Epoch 63/100\n",
      "132/132 [==============================] - 0s 4ms/step - loss: 0.0140 - mean_absolute_error: 0.0888\n",
      "Epoch 64/100\n",
      "132/132 [==============================] - 0s 4ms/step - loss: 0.0092 - mean_absolute_error: 0.0701\n",
      "Epoch 65/100\n",
      "132/132 [==============================] - 0s 4ms/step - loss: 0.0084 - mean_absolute_error: 0.0681\n",
      "Epoch 66/100\n",
      "132/132 [==============================] - 0s 4ms/step - loss: 0.0085 - mean_absolute_error: 0.0691\n",
      "Epoch 67/100\n",
      "132/132 [==============================] - 0s 4ms/step - loss: 0.0104 - mean_absolute_error: 0.0784\n",
      "Epoch 68/100\n",
      "132/132 [==============================] - 0s 4ms/step - loss: 0.0174 - mean_absolute_error: 0.1092\n",
      "Epoch 69/100\n",
      "132/132 [==============================] - 0s 4ms/step - loss: 0.0085 - mean_absolute_error: 0.0708\n",
      "Epoch 70/100\n",
      "132/132 [==============================] - 0s 4ms/step - loss: 0.0092 - mean_absolute_error: 0.0772\n",
      "Epoch 71/100\n",
      "132/132 [==============================] - 0s 4ms/step - loss: 0.0089 - mean_absolute_error: 0.0721\n",
      "Epoch 72/100\n",
      "132/132 [==============================] - 0s 4ms/step - loss: 0.0132 - mean_absolute_error: 0.0947\n",
      "Epoch 73/100\n",
      "132/132 [==============================] - 0s 4ms/step - loss: 0.0143 - mean_absolute_error: 0.0978\n",
      "Epoch 74/100\n",
      "132/132 [==============================] - 0s 3ms/step - loss: 0.0085 - mean_absolute_error: 0.0710\n",
      "Epoch 75/100\n",
      "132/132 [==============================] - 0s 4ms/step - loss: 0.0092 - mean_absolute_error: 0.0742\n",
      "Epoch 76/100\n",
      "132/132 [==============================] - 0s 4ms/step - loss: 0.0083 - mean_absolute_error: 0.0700\n",
      "Epoch 77/100\n",
      "132/132 [==============================] - 0s 3ms/step - loss: 0.0096 - mean_absolute_error: 0.0758\n",
      "Epoch 78/100\n",
      "132/132 [==============================] - 0s 3ms/step - loss: 0.0078 - mean_absolute_error: 0.0677\n",
      "Epoch 79/100\n",
      "132/132 [==============================] - 0s 3ms/step - loss: 0.0072 - mean_absolute_error: 0.0664\n",
      "Epoch 80/100\n",
      "132/132 [==============================] - 0s 4ms/step - loss: 0.0088 - mean_absolute_error: 0.0734\n",
      "Epoch 81/100\n",
      "132/132 [==============================] - 0s 3ms/step - loss: 0.0145 - mean_absolute_error: 0.0935\n",
      "Epoch 82/100\n",
      "132/132 [==============================] - 0s 3ms/step - loss: 0.0192 - mean_absolute_error: 0.1131\n",
      "Epoch 83/100\n",
      "132/132 [==============================] - 0s 3ms/step - loss: 0.0079 - mean_absolute_error: 0.0674\n",
      "Epoch 84/100\n",
      "132/132 [==============================] - 0s 4ms/step - loss: 0.0079 - mean_absolute_error: 0.0725\n",
      "Epoch 85/100\n",
      "132/132 [==============================] - 0s 3ms/step - loss: 0.0077 - mean_absolute_error: 0.0656\n",
      "Epoch 86/100\n",
      "132/132 [==============================] - 0s 4ms/step - loss: 0.0070 - mean_absolute_error: 0.0655\n",
      "Epoch 87/100\n",
      "132/132 [==============================] - 0s 3ms/step - loss: 0.0092 - mean_absolute_error: 0.0750\n",
      "Epoch 88/100\n",
      "132/132 [==============================] - 0s 3ms/step - loss: 0.0094 - mean_absolute_error: 0.0749\n",
      "Epoch 89/100\n",
      "132/132 [==============================] - 0s 3ms/step - loss: 0.0069 - mean_absolute_error: 0.0643\n",
      "Epoch 90/100\n",
      "132/132 [==============================] - 0s 4ms/step - loss: 0.0074 - mean_absolute_error: 0.0684\n",
      "Epoch 91/100\n",
      "132/132 [==============================] - 0s 4ms/step - loss: 0.0070 - mean_absolute_error: 0.0703\n",
      "Epoch 92/100\n",
      "132/132 [==============================] - 0s 4ms/step - loss: 0.0104 - mean_absolute_error: 0.0792\n",
      "Epoch 93/100\n",
      "132/132 [==============================] - 0s 4ms/step - loss: 0.0156 - mean_absolute_error: 0.1017\n",
      "Epoch 94/100\n",
      "132/132 [==============================] - 0s 3ms/step - loss: 0.0081 - mean_absolute_error: 0.0686\n",
      "Epoch 95/100\n",
      "132/132 [==============================] - 0s 3ms/step - loss: 0.0100 - mean_absolute_error: 0.0785\n",
      "Epoch 96/100\n",
      "132/132 [==============================] - 0s 3ms/step - loss: 0.0071 - mean_absolute_error: 0.0695\n",
      "Epoch 97/100\n",
      "132/132 [==============================] - 0s 4ms/step - loss: 0.0069 - mean_absolute_error: 0.0677\n",
      "Epoch 98/100\n",
      "132/132 [==============================] - 0s 3ms/step - loss: 0.0061 - mean_absolute_error: 0.0633\n",
      "Epoch 99/100\n",
      "132/132 [==============================] - 0s 3ms/step - loss: 0.0072 - mean_absolute_error: 0.0654\n",
      "Epoch 100/100\n",
      "132/132 [==============================] - 0s 3ms/step - loss: 0.0105 - mean_absolute_error: 0.0827\n"
     ]
    },
    {
     "data": {
      "text/plain": [
       "<keras.callbacks.callbacks.History at 0x7f67a3bedf40>"
      ]
     },
     "execution_count": 183,
     "metadata": {},
     "output_type": "execute_result"
    }
   ],
   "source": [
    "# PETR4\n",
    "regressor_petr4 = Sequential()\n",
    "regressor_petr4.add(LSTM(units = 100, return_sequences = True, input_shape = (previsores_petr4.shape[1], 1)))\n",
    "regressor_petr4.add(Dropout(0.3))\n",
    "\n",
    "regressor_petr4.add(LSTM(units = 50, return_sequences = True))\n",
    "regressor_petr4.add(Dropout(0.3))\n",
    "\n",
    "regressor_petr4.add(LSTM(units = 50, return_sequences = True))\n",
    "regressor_petr4.add(Dropout(0.3))\n",
    "\n",
    "regressor_petr4.add(LSTM(units = 50))\n",
    "regressor_petr4.add(Dropout(0.3))\n",
    "\n",
    "regressor_petr4.add(Dense(units = 1, activation = 'linear'))\n",
    "\n",
    "regressor_petr4.compile(optimizer = 'rmsprop', loss = 'mean_squared_error',\n",
    "                  metrics = ['mean_absolute_error'])\n",
    "regressor_petr4.fit(previsores_usim5, preco_real_usim5, epochs = 100, batch_size = 100)"
   ]
  },
  {
   "cell_type": "code",
   "execution_count": 127,
   "metadata": {},
   "outputs": [
    {
     "name": "stdout",
     "output_type": "stream",
     "text": [
      "Epoch 1/100\n",
      "132/132 [==============================] - 2s 15ms/step - loss: 0.1152 - mean_absolute_error: 0.2834\n",
      "Epoch 2/100\n",
      "132/132 [==============================] - 0s 3ms/step - loss: 0.0363 - mean_absolute_error: 0.1577\n",
      "Epoch 3/100\n",
      "132/132 [==============================] - 0s 3ms/step - loss: 0.0278 - mean_absolute_error: 0.1335\n",
      "Epoch 4/100\n",
      "132/132 [==============================] - 0s 3ms/step - loss: 0.0181 - mean_absolute_error: 0.1104\n",
      "Epoch 5/100\n",
      "132/132 [==============================] - 0s 3ms/step - loss: 0.0203 - mean_absolute_error: 0.1144\n",
      "Epoch 6/100\n",
      "132/132 [==============================] - 0s 3ms/step - loss: 0.0201 - mean_absolute_error: 0.1145\n",
      "Epoch 7/100\n",
      "132/132 [==============================] - 0s 3ms/step - loss: 0.0155 - mean_absolute_error: 0.1006\n",
      "Epoch 8/100\n",
      "132/132 [==============================] - 0s 3ms/step - loss: 0.0189 - mean_absolute_error: 0.1068\n",
      "Epoch 9/100\n",
      "132/132 [==============================] - 1s 4ms/step - loss: 0.0130 - mean_absolute_error: 0.0920\n",
      "Epoch 10/100\n",
      "132/132 [==============================] - 1s 5ms/step - loss: 0.0212 - mean_absolute_error: 0.1167\n",
      "Epoch 11/100\n",
      "132/132 [==============================] - 0s 3ms/step - loss: 0.0242 - mean_absolute_error: 0.1221\n",
      "Epoch 12/100\n",
      "132/132 [==============================] - 0s 3ms/step - loss: 0.0132 - mean_absolute_error: 0.0925\n",
      "Epoch 13/100\n",
      "132/132 [==============================] - 0s 3ms/step - loss: 0.0190 - mean_absolute_error: 0.1138\n",
      "Epoch 14/100\n",
      "132/132 [==============================] - 0s 3ms/step - loss: 0.0112 - mean_absolute_error: 0.0836\n",
      "Epoch 15/100\n",
      "132/132 [==============================] - 0s 3ms/step - loss: 0.0119 - mean_absolute_error: 0.0861\n",
      "Epoch 16/100\n",
      "132/132 [==============================] - 0s 3ms/step - loss: 0.0125 - mean_absolute_error: 0.0887\n",
      "Epoch 17/100\n",
      "132/132 [==============================] - 0s 3ms/step - loss: 0.0133 - mean_absolute_error: 0.0921\n",
      "Epoch 18/100\n",
      "132/132 [==============================] - 0s 3ms/step - loss: 0.0110 - mean_absolute_error: 0.0812\n",
      "Epoch 19/100\n",
      "132/132 [==============================] - 0s 3ms/step - loss: 0.0095 - mean_absolute_error: 0.0783\n",
      "Epoch 20/100\n",
      "132/132 [==============================] - 1s 4ms/step - loss: 0.0153 - mean_absolute_error: 0.0977\n",
      "Epoch 21/100\n",
      "132/132 [==============================] - 1s 4ms/step - loss: 0.0276 - mean_absolute_error: 0.1334\n",
      "Epoch 22/100\n",
      "132/132 [==============================] - 0s 3ms/step - loss: 0.0195 - mean_absolute_error: 0.1140\n",
      "Epoch 23/100\n",
      "132/132 [==============================] - 0s 3ms/step - loss: 0.0110 - mean_absolute_error: 0.0814\n",
      "Epoch 24/100\n",
      "132/132 [==============================] - 0s 3ms/step - loss: 0.0114 - mean_absolute_error: 0.0840\n",
      "Epoch 25/100\n",
      "132/132 [==============================] - 0s 3ms/step - loss: 0.0115 - mean_absolute_error: 0.0843\n",
      "Epoch 26/100\n",
      "132/132 [==============================] - 0s 3ms/step - loss: 0.0253 - mean_absolute_error: 0.1352\n",
      "Epoch 27/100\n",
      "132/132 [==============================] - 1s 4ms/step - loss: 0.0097 - mean_absolute_error: 0.0756\n",
      "Epoch 28/100\n",
      "132/132 [==============================] - 1s 4ms/step - loss: 0.0093 - mean_absolute_error: 0.0765\n",
      "Epoch 29/100\n",
      "132/132 [==============================] - 0s 3ms/step - loss: 0.0101 - mean_absolute_error: 0.0775\n",
      "Epoch 30/100\n",
      "132/132 [==============================] - 0s 3ms/step - loss: 0.0097 - mean_absolute_error: 0.0744\n",
      "Epoch 31/100\n",
      "132/132 [==============================] - 0s 3ms/step - loss: 0.0113 - mean_absolute_error: 0.0804\n",
      "Epoch 32/100\n",
      "132/132 [==============================] - 1s 4ms/step - loss: 0.0200 - mean_absolute_error: 0.1096\n",
      "Epoch 33/100\n",
      "132/132 [==============================] - 0s 3ms/step - loss: 0.0138 - mean_absolute_error: 0.0908\n",
      "Epoch 34/100\n",
      "132/132 [==============================] - 1s 4ms/step - loss: 0.0120 - mean_absolute_error: 0.0856\n",
      "Epoch 35/100\n",
      "132/132 [==============================] - 0s 3ms/step - loss: 0.0103 - mean_absolute_error: 0.0781\n",
      "Epoch 36/100\n",
      "132/132 [==============================] - 0s 3ms/step - loss: 0.0123 - mean_absolute_error: 0.0846\n",
      "Epoch 37/100\n",
      "132/132 [==============================] - 0s 3ms/step - loss: 0.0195 - mean_absolute_error: 0.1116\n",
      "Epoch 38/100\n",
      "132/132 [==============================] - 0s 3ms/step - loss: 0.0109 - mean_absolute_error: 0.0874\n",
      "Epoch 39/100\n",
      "132/132 [==============================] - 0s 3ms/step - loss: 0.0128 - mean_absolute_error: 0.0931\n",
      "Epoch 40/100\n",
      "132/132 [==============================] - 0s 3ms/step - loss: 0.0093 - mean_absolute_error: 0.0759\n",
      "Epoch 41/100\n",
      "132/132 [==============================] - 1s 5ms/step - loss: 0.0120 - mean_absolute_error: 0.0859\n",
      "Epoch 42/100\n",
      "132/132 [==============================] - 0s 3ms/step - loss: 0.0115 - mean_absolute_error: 0.0832\n",
      "Epoch 43/100\n",
      "132/132 [==============================] - 0s 3ms/step - loss: 0.0189 - mean_absolute_error: 0.1145\n",
      "Epoch 44/100\n",
      "132/132 [==============================] - 0s 3ms/step - loss: 0.0100 - mean_absolute_error: 0.0768\n",
      "Epoch 45/100\n",
      "132/132 [==============================] - 0s 3ms/step - loss: 0.0099 - mean_absolute_error: 0.0768\n",
      "Epoch 46/100\n",
      "132/132 [==============================] - 0s 3ms/step - loss: 0.0125 - mean_absolute_error: 0.0886\n",
      "Epoch 47/100\n",
      "132/132 [==============================] - 0s 3ms/step - loss: 0.0108 - mean_absolute_error: 0.0843\n",
      "Epoch 48/100\n",
      "132/132 [==============================] - 0s 3ms/step - loss: 0.0118 - mean_absolute_error: 0.0823\n",
      "Epoch 49/100\n",
      "132/132 [==============================] - 0s 3ms/step - loss: 0.0137 - mean_absolute_error: 0.0885\n",
      "Epoch 50/100\n",
      "132/132 [==============================] - 0s 3ms/step - loss: 0.0111 - mean_absolute_error: 0.0779\n",
      "Epoch 51/100\n",
      "132/132 [==============================] - 0s 3ms/step - loss: 0.0111 - mean_absolute_error: 0.0811\n",
      "Epoch 52/100\n",
      "132/132 [==============================] - 0s 3ms/step - loss: 0.0097 - mean_absolute_error: 0.0748\n",
      "Epoch 53/100\n",
      "132/132 [==============================] - 0s 3ms/step - loss: 0.0107 - mean_absolute_error: 0.0770\n",
      "Epoch 54/100\n",
      "132/132 [==============================] - 0s 3ms/step - loss: 0.0108 - mean_absolute_error: 0.0799\n",
      "Epoch 55/100\n",
      "132/132 [==============================] - 0s 4ms/step - loss: 0.0099 - mean_absolute_error: 0.0710\n",
      "Epoch 56/100\n",
      "132/132 [==============================] - 0s 3ms/step - loss: 0.0142 - mean_absolute_error: 0.0951\n",
      "Epoch 57/100\n",
      "132/132 [==============================] - 0s 3ms/step - loss: 0.0110 - mean_absolute_error: 0.0766\n",
      "Epoch 58/100\n",
      "132/132 [==============================] - 0s 3ms/step - loss: 0.0107 - mean_absolute_error: 0.0779\n",
      "Epoch 59/100\n",
      "132/132 [==============================] - 0s 3ms/step - loss: 0.0122 - mean_absolute_error: 0.0865\n",
      "Epoch 60/100\n",
      "132/132 [==============================] - 0s 3ms/step - loss: 0.0164 - mean_absolute_error: 0.1016\n",
      "Epoch 61/100\n",
      "132/132 [==============================] - 0s 3ms/step - loss: 0.0089 - mean_absolute_error: 0.0738\n",
      "Epoch 62/100\n",
      "132/132 [==============================] - 0s 3ms/step - loss: 0.0100 - mean_absolute_error: 0.0764\n",
      "Epoch 63/100\n",
      "132/132 [==============================] - 0s 3ms/step - loss: 0.0113 - mean_absolute_error: 0.0843\n",
      "Epoch 64/100\n",
      "132/132 [==============================] - 0s 3ms/step - loss: 0.0100 - mean_absolute_error: 0.0762\n",
      "Epoch 65/100\n",
      "132/132 [==============================] - 0s 3ms/step - loss: 0.0140 - mean_absolute_error: 0.0997\n",
      "Epoch 66/100\n",
      "132/132 [==============================] - 0s 3ms/step - loss: 0.0101 - mean_absolute_error: 0.0755\n",
      "Epoch 67/100\n",
      "132/132 [==============================] - 0s 3ms/step - loss: 0.0088 - mean_absolute_error: 0.0696\n",
      "Epoch 68/100\n",
      "132/132 [==============================] - 0s 3ms/step - loss: 0.0098 - mean_absolute_error: 0.0768\n",
      "Epoch 69/100\n",
      "132/132 [==============================] - 0s 3ms/step - loss: 0.0119 - mean_absolute_error: 0.0840\n",
      "Epoch 70/100\n",
      "132/132 [==============================] - 0s 3ms/step - loss: 0.0089 - mean_absolute_error: 0.0753\n",
      "Epoch 71/100\n",
      "132/132 [==============================] - 0s 3ms/step - loss: 0.0084 - mean_absolute_error: 0.0683\n",
      "Epoch 72/100\n",
      "132/132 [==============================] - 0s 3ms/step - loss: 0.0095 - mean_absolute_error: 0.0750\n",
      "Epoch 73/100\n",
      "132/132 [==============================] - 0s 3ms/step - loss: 0.0125 - mean_absolute_error: 0.0905\n",
      "Epoch 74/100\n",
      "132/132 [==============================] - 0s 3ms/step - loss: 0.0094 - mean_absolute_error: 0.0768\n",
      "Epoch 75/100\n",
      "132/132 [==============================] - 0s 3ms/step - loss: 0.0097 - mean_absolute_error: 0.0754\n",
      "Epoch 76/100\n",
      "132/132 [==============================] - 0s 3ms/step - loss: 0.0119 - mean_absolute_error: 0.0878\n",
      "Epoch 77/100\n",
      "132/132 [==============================] - 0s 3ms/step - loss: 0.0091 - mean_absolute_error: 0.0720\n",
      "Epoch 78/100\n",
      "132/132 [==============================] - 0s 3ms/step - loss: 0.0106 - mean_absolute_error: 0.0833\n",
      "Epoch 79/100\n",
      "132/132 [==============================] - 0s 3ms/step - loss: 0.0085 - mean_absolute_error: 0.0726\n",
      "Epoch 80/100\n",
      "132/132 [==============================] - 0s 3ms/step - loss: 0.0082 - mean_absolute_error: 0.0688\n",
      "Epoch 81/100\n",
      "132/132 [==============================] - 0s 3ms/step - loss: 0.0089 - mean_absolute_error: 0.0691\n",
      "Epoch 82/100\n",
      "132/132 [==============================] - 0s 3ms/step - loss: 0.0102 - mean_absolute_error: 0.0760\n",
      "Epoch 83/100\n",
      "132/132 [==============================] - 0s 3ms/step - loss: 0.0148 - mean_absolute_error: 0.0957\n",
      "Epoch 84/100\n",
      "132/132 [==============================] - 0s 3ms/step - loss: 0.0079 - mean_absolute_error: 0.0670\n",
      "Epoch 85/100\n",
      "132/132 [==============================] - 0s 3ms/step - loss: 0.0085 - mean_absolute_error: 0.0714\n",
      "Epoch 86/100\n",
      "132/132 [==============================] - 0s 3ms/step - loss: 0.0083 - mean_absolute_error: 0.0708\n",
      "Epoch 87/100\n",
      "132/132 [==============================] - 0s 3ms/step - loss: 0.0101 - mean_absolute_error: 0.0782\n",
      "Epoch 88/100\n",
      "132/132 [==============================] - 0s 3ms/step - loss: 0.0182 - mean_absolute_error: 0.1089\n",
      "Epoch 89/100\n",
      "132/132 [==============================] - 0s 3ms/step - loss: 0.0098 - mean_absolute_error: 0.0749\n",
      "Epoch 90/100\n",
      "132/132 [==============================] - 0s 3ms/step - loss: 0.0107 - mean_absolute_error: 0.0786\n",
      "Epoch 91/100\n",
      "132/132 [==============================] - 0s 3ms/step - loss: 0.0074 - mean_absolute_error: 0.0640\n",
      "Epoch 92/100\n",
      "132/132 [==============================] - 0s 3ms/step - loss: 0.0090 - mean_absolute_error: 0.0718\n",
      "Epoch 93/100\n",
      "132/132 [==============================] - 0s 3ms/step - loss: 0.0106 - mean_absolute_error: 0.0818\n",
      "Epoch 94/100\n",
      "132/132 [==============================] - 0s 3ms/step - loss: 0.0087 - mean_absolute_error: 0.0693\n",
      "Epoch 95/100\n",
      "132/132 [==============================] - 0s 3ms/step - loss: 0.0094 - mean_absolute_error: 0.0732\n",
      "Epoch 96/100\n",
      "132/132 [==============================] - 0s 3ms/step - loss: 0.0110 - mean_absolute_error: 0.0822\n",
      "Epoch 97/100\n",
      "132/132 [==============================] - 0s 3ms/step - loss: 0.0075 - mean_absolute_error: 0.0658\n",
      "Epoch 98/100\n",
      "132/132 [==============================] - 0s 3ms/step - loss: 0.0082 - mean_absolute_error: 0.0680\n",
      "Epoch 99/100\n",
      "132/132 [==============================] - 0s 3ms/step - loss: 0.0084 - mean_absolute_error: 0.0685\n",
      "Epoch 100/100\n",
      "132/132 [==============================] - 0s 3ms/step - loss: 0.0101 - mean_absolute_error: 0.0799\n"
     ]
    },
    {
     "data": {
      "text/plain": [
       "<keras.callbacks.callbacks.History at 0x7f67a6e73f10>"
      ]
     },
     "execution_count": 127,
     "metadata": {},
     "output_type": "execute_result"
    }
   ],
   "source": [
    "#USIM5\n",
    "regressor_usim5 = Sequential()\n",
    "regressor_usim5.add(LSTM(units = 100, return_sequences = True, input_shape = (previsores_usim5.shape[1], 1)))\n",
    "regressor_usim5.add(Dropout(0.3))\n",
    "\n",
    "regressor_usim5.add(LSTM(units = 50, return_sequences = True))\n",
    "regressor_usim5.add(Dropout(0.3))\n",
    "\n",
    "regressor_usim5.add(LSTM(units = 50, return_sequences = True))\n",
    "regressor_usim5.add(Dropout(0.3))\n",
    "\n",
    "regressor_usim5.add(LSTM(units = 50))\n",
    "regressor_usim5.add(Dropout(0.3))\n",
    "\n",
    "regressor_usim5.add(Dense(units = 1, activation = 'linear'))\n",
    "\n",
    "regressor_usim5.compile(optimizer = 'rmsprop', loss = 'mean_squared_error',\n",
    "                  metrics = ['mean_absolute_error'])\n",
    "regressor_usim5.fit(previsores_usim5, preco_real_usim5, epochs = 100, batch_size = 100)"
   ]
  },
  {
   "cell_type": "code",
   "execution_count": 128,
   "metadata": {},
   "outputs": [
    {
     "name": "stdout",
     "output_type": "stream",
     "text": [
      "Epoch 1/100\n",
      "132/132 [==============================] - 2s 13ms/step - loss: 0.1623 - mean_absolute_error: 0.3344\n",
      "Epoch 2/100\n",
      "132/132 [==============================] - 0s 3ms/step - loss: 0.4192 - mean_absolute_error: 0.5824\n",
      "Epoch 3/100\n",
      "132/132 [==============================] - 0s 3ms/step - loss: 0.0520 - mean_absolute_error: 0.1809\n",
      "Epoch 4/100\n",
      "132/132 [==============================] - 0s 3ms/step - loss: 0.0274 - mean_absolute_error: 0.1307\n",
      "Epoch 5/100\n",
      "132/132 [==============================] - 0s 3ms/step - loss: 0.0221 - mean_absolute_error: 0.1192\n",
      "Epoch 6/100\n",
      "132/132 [==============================] - 0s 3ms/step - loss: 0.0195 - mean_absolute_error: 0.1110\n",
      "Epoch 7/100\n",
      "132/132 [==============================] - 0s 3ms/step - loss: 0.0170 - mean_absolute_error: 0.1041\n",
      "Epoch 8/100\n",
      "132/132 [==============================] - 0s 3ms/step - loss: 0.0187 - mean_absolute_error: 0.1118\n",
      "Epoch 9/100\n",
      "132/132 [==============================] - 0s 3ms/step - loss: 0.0182 - mean_absolute_error: 0.1068\n",
      "Epoch 10/100\n",
      "132/132 [==============================] - 0s 3ms/step - loss: 0.0169 - mean_absolute_error: 0.1042\n",
      "Epoch 11/100\n",
      "132/132 [==============================] - 0s 3ms/step - loss: 0.0166 - mean_absolute_error: 0.1042\n",
      "Epoch 12/100\n",
      "132/132 [==============================] - 0s 3ms/step - loss: 0.0139 - mean_absolute_error: 0.0970\n",
      "Epoch 13/100\n",
      "132/132 [==============================] - 0s 3ms/step - loss: 0.0215 - mean_absolute_error: 0.1197\n",
      "Epoch 14/100\n",
      "132/132 [==============================] - 0s 3ms/step - loss: 0.0269 - mean_absolute_error: 0.1305\n",
      "Epoch 15/100\n",
      "132/132 [==============================] - 0s 3ms/step - loss: 0.0180 - mean_absolute_error: 0.1086\n",
      "Epoch 16/100\n",
      "132/132 [==============================] - 0s 3ms/step - loss: 0.0130 - mean_absolute_error: 0.0915\n",
      "Epoch 17/100\n",
      "132/132 [==============================] - 0s 4ms/step - loss: 0.0207 - mean_absolute_error: 0.1147\n",
      "Epoch 18/100\n",
      "132/132 [==============================] - 0s 3ms/step - loss: 0.0243 - mean_absolute_error: 0.1243\n",
      "Epoch 19/100\n",
      "132/132 [==============================] - 0s 3ms/step - loss: 0.0225 - mean_absolute_error: 0.1209\n",
      "Epoch 20/100\n",
      "132/132 [==============================] - 0s 3ms/step - loss: 0.0321 - mean_absolute_error: 0.1409\n",
      "Epoch 21/100\n",
      "132/132 [==============================] - 0s 3ms/step - loss: 0.0137 - mean_absolute_error: 0.0931\n",
      "Epoch 22/100\n",
      "132/132 [==============================] - 0s 3ms/step - loss: 0.0152 - mean_absolute_error: 0.1012\n",
      "Epoch 23/100\n",
      "132/132 [==============================] - 0s 3ms/step - loss: 0.0214 - mean_absolute_error: 0.1142\n",
      "Epoch 24/100\n",
      "132/132 [==============================] - 0s 3ms/step - loss: 0.0204 - mean_absolute_error: 0.1135\n",
      "Epoch 25/100\n",
      "132/132 [==============================] - 0s 3ms/step - loss: 0.0127 - mean_absolute_error: 0.0951\n",
      "Epoch 26/100\n",
      "132/132 [==============================] - 0s 3ms/step - loss: 0.0263 - mean_absolute_error: 0.1295\n",
      "Epoch 27/100\n",
      "132/132 [==============================] - 0s 3ms/step - loss: 0.0187 - mean_absolute_error: 0.1102\n",
      "Epoch 28/100\n",
      "132/132 [==============================] - 0s 3ms/step - loss: 0.0189 - mean_absolute_error: 0.1104\n",
      "Epoch 29/100\n",
      "132/132 [==============================] - 0s 3ms/step - loss: 0.0137 - mean_absolute_error: 0.0950\n",
      "Epoch 30/100\n",
      "132/132 [==============================] - 0s 3ms/step - loss: 0.0264 - mean_absolute_error: 0.1268\n",
      "Epoch 31/100\n",
      "132/132 [==============================] - 0s 3ms/step - loss: 0.0128 - mean_absolute_error: 0.0915\n",
      "Epoch 32/100\n",
      "132/132 [==============================] - 0s 3ms/step - loss: 0.0113 - mean_absolute_error: 0.0851\n",
      "Epoch 33/100\n",
      "132/132 [==============================] - 0s 3ms/step - loss: 0.0159 - mean_absolute_error: 0.1055\n",
      "Epoch 34/100\n",
      "132/132 [==============================] - 0s 3ms/step - loss: 0.0326 - mean_absolute_error: 0.1465\n",
      "Epoch 35/100\n",
      "132/132 [==============================] - 0s 3ms/step - loss: 0.0125 - mean_absolute_error: 0.0889\n",
      "Epoch 36/100\n",
      "132/132 [==============================] - 0s 3ms/step - loss: 0.0123 - mean_absolute_error: 0.0894\n",
      "Epoch 37/100\n",
      "132/132 [==============================] - 0s 3ms/step - loss: 0.0143 - mean_absolute_error: 0.0975\n",
      "Epoch 38/100\n",
      "132/132 [==============================] - 0s 3ms/step - loss: 0.0239 - mean_absolute_error: 0.1233\n",
      "Epoch 39/100\n",
      "132/132 [==============================] - 0s 3ms/step - loss: 0.0162 - mean_absolute_error: 0.1017\n",
      "Epoch 40/100\n",
      "132/132 [==============================] - 0s 3ms/step - loss: 0.0294 - mean_absolute_error: 0.1353\n",
      "Epoch 41/100\n",
      "132/132 [==============================] - 0s 3ms/step - loss: 0.0136 - mean_absolute_error: 0.0964\n",
      "Epoch 42/100\n",
      "132/132 [==============================] - 0s 3ms/step - loss: 0.0135 - mean_absolute_error: 0.0925\n",
      "Epoch 43/100\n",
      "132/132 [==============================] - 0s 3ms/step - loss: 0.0115 - mean_absolute_error: 0.0859\n",
      "Epoch 44/100\n",
      "132/132 [==============================] - 0s 3ms/step - loss: 0.0204 - mean_absolute_error: 0.1154\n",
      "Epoch 45/100\n",
      "132/132 [==============================] - 0s 3ms/step - loss: 0.0155 - mean_absolute_error: 0.0998\n",
      "Epoch 46/100\n",
      "132/132 [==============================] - 0s 3ms/step - loss: 0.0129 - mean_absolute_error: 0.0911\n",
      "Epoch 47/100\n",
      "132/132 [==============================] - 0s 3ms/step - loss: 0.0140 - mean_absolute_error: 0.0934\n",
      "Epoch 48/100\n",
      "132/132 [==============================] - 0s 3ms/step - loss: 0.0252 - mean_absolute_error: 0.1290\n",
      "Epoch 49/100\n",
      "132/132 [==============================] - 0s 3ms/step - loss: 0.0122 - mean_absolute_error: 0.0879\n",
      "Epoch 50/100\n",
      "132/132 [==============================] - 0s 3ms/step - loss: 0.0180 - mean_absolute_error: 0.1105\n",
      "Epoch 51/100\n",
      "132/132 [==============================] - 0s 3ms/step - loss: 0.0293 - mean_absolute_error: 0.1317\n",
      "Epoch 52/100\n",
      "132/132 [==============================] - 0s 3ms/step - loss: 0.0113 - mean_absolute_error: 0.0821\n",
      "Epoch 53/100\n",
      "132/132 [==============================] - 0s 3ms/step - loss: 0.0118 - mean_absolute_error: 0.0886\n",
      "Epoch 54/100\n",
      "132/132 [==============================] - 0s 3ms/step - loss: 0.0113 - mean_absolute_error: 0.0834\n",
      "Epoch 55/100\n",
      "132/132 [==============================] - 0s 3ms/step - loss: 0.0129 - mean_absolute_error: 0.0922\n",
      "Epoch 56/100\n",
      "132/132 [==============================] - 0s 3ms/step - loss: 0.0126 - mean_absolute_error: 0.0922\n",
      "Epoch 57/100\n",
      "132/132 [==============================] - 0s 3ms/step - loss: 0.0110 - mean_absolute_error: 0.0860\n",
      "Epoch 58/100\n",
      "132/132 [==============================] - 0s 3ms/step - loss: 0.0124 - mean_absolute_error: 0.0918\n",
      "Epoch 59/100\n",
      "132/132 [==============================] - 0s 3ms/step - loss: 0.0191 - mean_absolute_error: 0.1105\n",
      "Epoch 60/100\n",
      "132/132 [==============================] - 0s 3ms/step - loss: 0.0190 - mean_absolute_error: 0.1141\n",
      "Epoch 61/100\n",
      "132/132 [==============================] - 0s 3ms/step - loss: 0.0158 - mean_absolute_error: 0.0998\n",
      "Epoch 62/100\n",
      "132/132 [==============================] - 0s 3ms/step - loss: 0.0167 - mean_absolute_error: 0.1002\n",
      "Epoch 63/100\n",
      "132/132 [==============================] - 0s 3ms/step - loss: 0.0112 - mean_absolute_error: 0.0852\n",
      "Epoch 64/100\n",
      "132/132 [==============================] - 0s 3ms/step - loss: 0.0120 - mean_absolute_error: 0.0872\n",
      "Epoch 65/100\n",
      "132/132 [==============================] - 0s 3ms/step - loss: 0.0136 - mean_absolute_error: 0.0943\n",
      "Epoch 66/100\n",
      "132/132 [==============================] - 0s 3ms/step - loss: 0.0108 - mean_absolute_error: 0.0860\n",
      "Epoch 67/100\n",
      "132/132 [==============================] - 0s 3ms/step - loss: 0.0129 - mean_absolute_error: 0.0921\n",
      "Epoch 68/100\n",
      "132/132 [==============================] - 0s 3ms/step - loss: 0.0292 - mean_absolute_error: 0.1330\n",
      "Epoch 69/100\n",
      "132/132 [==============================] - 0s 3ms/step - loss: 0.0116 - mean_absolute_error: 0.0851\n",
      "Epoch 70/100\n",
      "132/132 [==============================] - 0s 3ms/step - loss: 0.0099 - mean_absolute_error: 0.0818\n",
      "Epoch 71/100\n",
      "132/132 [==============================] - 0s 3ms/step - loss: 0.0103 - mean_absolute_error: 0.0837\n",
      "Epoch 72/100\n",
      "132/132 [==============================] - 0s 3ms/step - loss: 0.0105 - mean_absolute_error: 0.0832\n",
      "Epoch 73/100\n",
      "132/132 [==============================] - 0s 3ms/step - loss: 0.0148 - mean_absolute_error: 0.0968\n",
      "Epoch 74/100\n",
      "132/132 [==============================] - 0s 3ms/step - loss: 0.0106 - mean_absolute_error: 0.0828\n",
      "Epoch 75/100\n",
      "132/132 [==============================] - 0s 3ms/step - loss: 0.0140 - mean_absolute_error: 0.0976\n",
      "Epoch 76/100\n",
      "132/132 [==============================] - 0s 3ms/step - loss: 0.0251 - mean_absolute_error: 0.1237\n",
      "Epoch 77/100\n",
      "132/132 [==============================] - 0s 3ms/step - loss: 0.0156 - mean_absolute_error: 0.1028\n",
      "Epoch 78/100\n",
      "132/132 [==============================] - 0s 3ms/step - loss: 0.0125 - mean_absolute_error: 0.0883\n",
      "Epoch 79/100\n",
      "132/132 [==============================] - 0s 3ms/step - loss: 0.0164 - mean_absolute_error: 0.1000\n",
      "Epoch 80/100\n",
      "132/132 [==============================] - 0s 3ms/step - loss: 0.0121 - mean_absolute_error: 0.0885\n",
      "Epoch 81/100\n",
      "132/132 [==============================] - 0s 3ms/step - loss: 0.0103 - mean_absolute_error: 0.0814\n",
      "Epoch 82/100\n",
      "132/132 [==============================] - 0s 3ms/step - loss: 0.0092 - mean_absolute_error: 0.0781\n",
      "Epoch 83/100\n",
      "132/132 [==============================] - 0s 3ms/step - loss: 0.0100 - mean_absolute_error: 0.0808\n",
      "Epoch 84/100\n",
      "132/132 [==============================] - 0s 3ms/step - loss: 0.0145 - mean_absolute_error: 0.0935\n",
      "Epoch 85/100\n",
      "132/132 [==============================] - 0s 3ms/step - loss: 0.0254 - mean_absolute_error: 0.1279\n",
      "Epoch 86/100\n",
      "132/132 [==============================] - 0s 3ms/step - loss: 0.0108 - mean_absolute_error: 0.0843\n",
      "Epoch 87/100\n",
      "132/132 [==============================] - 0s 3ms/step - loss: 0.0161 - mean_absolute_error: 0.1035\n",
      "Epoch 88/100\n",
      "132/132 [==============================] - 0s 3ms/step - loss: 0.0160 - mean_absolute_error: 0.0992\n",
      "Epoch 89/100\n",
      "132/132 [==============================] - 0s 3ms/step - loss: 0.0114 - mean_absolute_error: 0.0867\n",
      "Epoch 90/100\n",
      "132/132 [==============================] - 0s 3ms/step - loss: 0.0090 - mean_absolute_error: 0.0757\n",
      "Epoch 91/100\n",
      "132/132 [==============================] - 0s 3ms/step - loss: 0.0168 - mean_absolute_error: 0.1039\n",
      "Epoch 92/100\n",
      "132/132 [==============================] - 0s 3ms/step - loss: 0.0173 - mean_absolute_error: 0.1047\n",
      "Epoch 93/100\n",
      "132/132 [==============================] - 0s 3ms/step - loss: 0.0116 - mean_absolute_error: 0.0866\n",
      "Epoch 94/100\n",
      "132/132 [==============================] - 0s 4ms/step - loss: 0.0081 - mean_absolute_error: 0.0747\n",
      "Epoch 95/100\n",
      "132/132 [==============================] - 0s 3ms/step - loss: 0.0096 - mean_absolute_error: 0.0788\n",
      "Epoch 96/100\n",
      "132/132 [==============================] - 0s 3ms/step - loss: 0.0115 - mean_absolute_error: 0.0845\n",
      "Epoch 97/100\n",
      "132/132 [==============================] - 1s 4ms/step - loss: 0.0094 - mean_absolute_error: 0.0782\n",
      "Epoch 98/100\n",
      "132/132 [==============================] - 0s 4ms/step - loss: 0.0109 - mean_absolute_error: 0.0840\n",
      "Epoch 99/100\n",
      "132/132 [==============================] - 0s 3ms/step - loss: 0.0157 - mean_absolute_error: 0.0977\n",
      "Epoch 100/100\n",
      "132/132 [==============================] - 0s 3ms/step - loss: 0.0126 - mean_absolute_error: 0.0891\n"
     ]
    },
    {
     "data": {
      "text/plain": [
       "<keras.callbacks.callbacks.History at 0x7f67a6f8e550>"
      ]
     },
     "execution_count": 128,
     "metadata": {},
     "output_type": "execute_result"
    }
   ],
   "source": [
    "# BBAS3\n",
    "regressor_bbas3 = Sequential()\n",
    "regressor_bbas3.add(LSTM(units = 100, return_sequences = True, input_shape = (previsores_bbas3.shape[1], 1)))\n",
    "regressor_bbas3.add(Dropout(0.3))\n",
    "\n",
    "regressor_bbas3.add(LSTM(units = 50, return_sequences = True))\n",
    "regressor_bbas3.add(Dropout(0.3))\n",
    "\n",
    "regressor_bbas3.add(LSTM(units = 50, return_sequences = True))\n",
    "regressor_bbas3.add(Dropout(0.3))\n",
    "\n",
    "regressor_bbas3.add(LSTM(units = 50))\n",
    "regressor_bbas3.add(Dropout(0.3))\n",
    "\n",
    "regressor_bbas3.add(Dense(units = 1, activation = 'linear'))\n",
    "\n",
    "regressor_bbas3.compile(optimizer = 'rmsprop', loss = 'mean_squared_error',\n",
    "                  metrics = ['mean_absolute_error'])\n",
    "regressor_bbas3.fit(previsores_bbas3, preco_real_bbas3, epochs = 100, batch_size = 100)\n"
   ]
  },
  {
   "cell_type": "markdown",
   "metadata": {},
   "source": [
    "### Criando a base de teste:"
   ]
  },
  {
   "cell_type": "code",
   "execution_count": 184,
   "metadata": {},
   "outputs": [],
   "source": [
    "base_petr4_teste = pd.read_csv('/home/giovana/Área de Trabalho/Dados/PETR4.SA_teste.csv')\n",
    "preco_real_petr4_teste = base_petr4_teste.iloc[:, 1:2].values\n",
    "\n",
    "base_usim5_teste = pd.read_csv('/home/giovana/Área de Trabalho/Dados/USIM5.SA_teste.csv')\n",
    "preco_real_usim5_teste = base_usim5_teste.iloc[:, 1:2].values\n",
    "\n",
    "base_bbas3_teste = pd.read_csv('/home/giovana/Área de Trabalho/Dados/BBAS3.SA_teste.csv')\n",
    "preco_real_bbas3_teste = base_bbas3_teste.iloc[:, 1:2].values"
   ]
  },
  {
   "cell_type": "code",
   "execution_count": 185,
   "metadata": {},
   "outputs": [
    {
     "data": {
      "text/plain": [
       "((20, 7), (20, 7), (20, 7))"
      ]
     },
     "execution_count": 185,
     "metadata": {},
     "output_type": "execute_result"
    }
   ],
   "source": [
    "base_petr4_teste.shape, base_usim5_teste.shape, base_bbas3_teste.shape"
   ]
  },
  {
   "cell_type": "markdown",
   "metadata": {},
   "source": [
    "### Construindo uma base com os  dados relevantes na previsão "
   ]
  },
  {
   "cell_type": "markdown",
   "metadata": {},
   "source": [
    "Nossa rede foi treinada utilizando os 90 dias anteriores a previsão, já a nossa base possui apenas 20 dados. Para solucionar esse problema, precisamos rodar um código que adicione os 90 dias anteriores aos meus 20 dados."
   ]
  },
  {
   "cell_type": "code",
   "execution_count": 186,
   "metadata": {},
   "outputs": [],
   "source": [
    "base_petr4_completa = pd.concat((base_petr4['Open'], base_petr4_teste['Open']), axis = 0)\n",
    "entradas_petr4 = base_petr4_completa[len(base_petr4_completa) - len(base_petr4_teste) - 90:].values\n",
    "entradas_petr4 = entradas_petr4.reshape(-1, 1)\n",
    "\n",
    "base_usim5_completa = pd.concat((base_usim5['Open'], base_usim5_teste['Open']), axis = 0)\n",
    "entradas_usim5 = base_usim5_completa[len(base_usim5_completa) - len(base_usim5_teste) - 90:].values\n",
    "entradas_usim5 = entradas_usim5.reshape(-1, 1)\n",
    "\n",
    "base_bbas3_completa = pd.concat((base_bbas3['Open'], base_bbas3_teste['Open']), axis = 0)\n",
    "entradas_bbas3 = base_bbas3_completa[len(base_bbas3_completa) - len(base_bbas3_teste) - 90:].values\n",
    "entradas_bbas3 = entradas_bbas3.reshape(-1, 1)"
   ]
  },
  {
   "cell_type": "code",
   "execution_count": 187,
   "metadata": {},
   "outputs": [
    {
     "data": {
      "text/plain": [
       "0     9.14\n",
       "1     8.71\n",
       "2     8.56\n",
       "3     8.79\n",
       "4     9.20\n",
       "      ... \n",
       "15    7.35\n",
       "16    7.02\n",
       "17    7.06\n",
       "18    6.76\n",
       "19    6.91\n",
       "Name: Open, Length: 242, dtype: float64"
      ]
     },
     "execution_count": 187,
     "metadata": {},
     "output_type": "execute_result"
    }
   ],
   "source": [
    "base_petr4_completa"
   ]
  },
  {
   "cell_type": "code",
   "execution_count": 188,
   "metadata": {},
   "outputs": [
    {
     "data": {
      "text/plain": [
       "0     4.75\n",
       "1     4.51\n",
       "2     4.85\n",
       "3     5.10\n",
       "4     4.69\n",
       "      ... \n",
       "15    1.62\n",
       "16    1.49\n",
       "17    1.47\n",
       "18    1.57\n",
       "19    1.53\n",
       "Name: Open, Length: 242, dtype: float64"
      ]
     },
     "execution_count": 188,
     "metadata": {},
     "output_type": "execute_result"
    }
   ],
   "source": [
    "base_usim5_completa"
   ]
  },
  {
   "cell_type": "code",
   "execution_count": 189,
   "metadata": {},
   "outputs": [
    {
     "data": {
      "text/plain": [
       "0     22.580000\n",
       "1     22.230000\n",
       "2     22.940001\n",
       "3     23.770000\n",
       "4     23.500000\n",
       "        ...    \n",
       "15    17.120001\n",
       "16    15.900000\n",
       "17    16.000000\n",
       "18    15.140000\n",
       "19    15.270000\n",
       "Name: Open, Length: 242, dtype: float64"
      ]
     },
     "execution_count": 189,
     "metadata": {},
     "output_type": "execute_result"
    }
   ],
   "source": [
    "base_bbas3_completa"
   ]
  },
  {
   "cell_type": "markdown",
   "metadata": {},
   "source": [
    "### Normalizando as entradas"
   ]
  },
  {
   "cell_type": "code",
   "execution_count": 190,
   "metadata": {},
   "outputs": [],
   "source": [
    "entradas_petr4 = normalizador.transform(entradas_petr4)\n",
    "entradas_usim5 = normalizador.transform(entradas_usim5)\n",
    "entradas_bbas3 = normalizador.transform(entradas_bbas3)"
   ]
  },
  {
   "cell_type": "code",
   "execution_count": 191,
   "metadata": {},
   "outputs": [
    {
     "data": {
      "text/plain": [
       "110"
      ]
     },
     "execution_count": 191,
     "metadata": {},
     "output_type": "execute_result"
    }
   ],
   "source": [
    "len(entradas_petr4)"
   ]
  },
  {
   "cell_type": "markdown",
   "metadata": {},
   "source": [
    "### Criando os previsores utilizados no teste"
   ]
  },
  {
   "cell_type": "code",
   "execution_count": 192,
   "metadata": {},
   "outputs": [],
   "source": [
    "# PETR4\n",
    "X_teste_petr4 = []\n",
    "for i in range(90, 110):\n",
    "    X_teste_petr4.append(entradas_petr4[i-90:i, 0])\n",
    "\n",
    "# USIM5\n",
    "X_teste_usim5 = []\n",
    "for j in range(90, 110):\n",
    "    X_teste_usim5.append(entradas_usim5[j-90:j, 0])\n",
    "    \n",
    "# BBAS3\n",
    "X_teste_bbas3 = []\n",
    "for k in range(90, 110):\n",
    "    X_teste_bbas3.append(entradas_bbas3[k-90:k, 0])"
   ]
  },
  {
   "cell_type": "markdown",
   "metadata": {},
   "source": [
    "### Transformando os dados em uma array  e redimensionando para o formato exigido pelo Keras"
   ]
  },
  {
   "cell_type": "code",
   "execution_count": 193,
   "metadata": {},
   "outputs": [],
   "source": [
    "X_teste_petr4 = np.array(X_teste_petr4)\n",
    "X_teste_petr4 = np.reshape(X_teste_petr4, (X_teste_petr4.shape[0], X_teste_petr4.shape[1], 1))\n",
    "\n",
    "X_teste_usim5 = np.array(X_teste_usim5)\n",
    "X_teste_usim5 = np.reshape(X_teste_usim5, (X_teste_usim5.shape[0], X_teste_usim5.shape[1], 1))\n",
    "\n",
    "X_teste_bbas3 = np.array(X_teste_bbas3)\n",
    "X_teste_bbas3 = np.reshape(X_teste_bbas3, (X_teste_bbas3.shape[0], X_teste_bbas3.shape[1], 1))"
   ]
  },
  {
   "cell_type": "code",
   "execution_count": 194,
   "metadata": {},
   "outputs": [
    {
     "data": {
      "text/plain": [
       "array([[[-0.19970413],\n",
       "        [-0.22633134],\n",
       "        [-0.26701181],\n",
       "        ...,\n",
       "        [-0.48964493],\n",
       "        [-0.47855026],\n",
       "        [-0.46153843]],\n",
       "\n",
       "       [[-0.22633134],\n",
       "        [-0.26701181],\n",
       "        [-0.28920116],\n",
       "        ...,\n",
       "        [-0.47855026],\n",
       "        [-0.46153843],\n",
       "        [-0.48594671]],\n",
       "\n",
       "       [[-0.26701181],\n",
       "        [-0.28920116],\n",
       "        [-0.31804731],\n",
       "        ...,\n",
       "        [-0.46153843],\n",
       "        [-0.48594671],\n",
       "        [-0.49630174]],\n",
       "\n",
       "       ...,\n",
       "\n",
       "       [[-0.34985205],\n",
       "        [-0.3491124 ],\n",
       "        [-0.34097631],\n",
       "        ...,\n",
       "        [-0.53550292],\n",
       "        [-0.5303254 ],\n",
       "        [-0.55473369]],\n",
       "\n",
       "       [[-0.3491124 ],\n",
       "        [-0.34097631],\n",
       "        [-0.36316565],\n",
       "        ...,\n",
       "        [-0.5303254 ],\n",
       "        [-0.55473369],\n",
       "        [-0.55177511]],\n",
       "\n",
       "       [[-0.34097631],\n",
       "        [-0.36316565],\n",
       "        [-0.3934911 ],\n",
       "        ...,\n",
       "        [-0.55473369],\n",
       "        [-0.55177511],\n",
       "        [-0.57396445]]])"
      ]
     },
     "execution_count": 194,
     "metadata": {},
     "output_type": "execute_result"
    }
   ],
   "source": [
    "X_teste_petr4"
   ]
  },
  {
   "cell_type": "markdown",
   "metadata": {},
   "source": [
    "### Testando..."
   ]
  },
  {
   "cell_type": "code",
   "execution_count": 195,
   "metadata": {},
   "outputs": [
    {
     "data": {
      "text/plain": [
       "(11.569476, 7.412499999999999)"
      ]
     },
     "execution_count": 195,
     "metadata": {},
     "output_type": "execute_result"
    }
   ],
   "source": [
    "previsoes_petr4 = regressor_petr4.predict(X_teste_petr4)\n",
    "previsoes_petr4 = normalizador.inverse_transform(previsoes_petr4)\n",
    "previsoes_petr4.mean(), preco_real_petr4_teste.mean()"
   ]
  },
  {
   "cell_type": "code",
   "execution_count": 196,
   "metadata": {},
   "outputs": [
    {
     "data": {
      "text/plain": [
       "(8.687563, 1.9200000000000004)"
      ]
     },
     "execution_count": 196,
     "metadata": {},
     "output_type": "execute_result"
    }
   ],
   "source": [
    "previsoes_usim5 = regressor_usim5.predict(X_teste_usim5)\n",
    "previsoes_usim5 = normalizador.inverse_transform(previsoes_usim5)\n",
    "previsoes_usim5.mean(), preco_real_usim5_teste.mean()"
   ]
  },
  {
   "cell_type": "code",
   "execution_count": 197,
   "metadata": {},
   "outputs": [
    {
     "data": {
      "text/plain": [
       "(17.805838, 16.961500199999996)"
      ]
     },
     "execution_count": 197,
     "metadata": {},
     "output_type": "execute_result"
    }
   ],
   "source": [
    "previsoes_bbas3 = regressor_bbas3.predict(X_teste_bbas3)\n",
    "previsoes_bbas3 = normalizador.inverse_transform(previsoes_bbas3)\n",
    "previsoes_bbas3.mean(), preco_real_bbas3_teste.mean()"
   ]
  },
  {
   "cell_type": "markdown",
   "metadata": {},
   "source": [
    "# Parte 2: Prever a tendência"
   ]
  },
  {
   "cell_type": "code",
   "execution_count": 198,
   "metadata": {},
   "outputs": [],
   "source": [
    "previsoes_petr4 = pd.DataFrame(previsoes_petr4)\n",
    "previsoes_usim5 = pd.DataFrame(previsoes_usim5)\n",
    "previsoes_bbas3 = pd.DataFrame(previsoes_bbas3)\n",
    "\n",
    "base_petr4_teste_comp = pd.concat((previsoes_petr4, base_petr4_teste['Open'], base_petr4_teste['Close']), axis = 1)\n",
    "base_petr4_teste_comp.columns = ['Prevision', 'Open', 'Close']\n",
    "base_usim5_teste_comp = pd.concat((previsoes_usim5, base_usim5_teste['Open'], base_usim5_teste['Close']), axis = 1)\n",
    "base_usim5_teste_comp.columns = ['Prevision', 'Open', 'Close']\n",
    "base_bbas3_teste_comp = pd.concat((previsoes_bbas3, base_bbas3_teste['Open'], base_bbas3_teste['Close']), axis = 1)\n",
    "base_bbas3_teste_comp.columns = ['Prevision', 'Open', 'Close']\n",
    "\n",
    "dif_real_petr4 = base_petr4_teste_comp.Close - base_petr4_teste_comp.Open\n",
    "dif_prevista_petr4 = base_petr4_teste_comp.Close - base_petr4_teste_comp.Prevision\n",
    "dif_real_usim5 = base_usim5_teste_comp.Close - base_usim5_teste_comp.Open\n",
    "dif_prevista_usim5 = base_usim5_teste_comp.Close - base_usim5_teste_comp.Prevision\n",
    "dif_real_bbas3 = base_bbas3_teste_comp.Close - base_bbas3_teste_comp.Open\n",
    "dif_prevista_bbas3 = base_bbas3_teste_comp.Close - base_bbas3_teste_comp.Prevision\n",
    "\n",
    "def ClassY(dif):\n",
    "    ClasseY=[]\n",
    "    for element in dif:\n",
    "        if element>0:\n",
    "            element = 1\n",
    "            ClasseY.append(element)\n",
    "        else:\n",
    "            element = 0\n",
    "            ClasseY.append(element)\n",
    "    return ClasseY\n",
    "\n",
    "x_petr4 = ClassY(dif_prevista_petr4)\n",
    "y_petr4 = ClassY(dif_real_petr4)\n",
    "x_usim5 = ClassY(dif_prevista_usim5)\n",
    "y_usim5 = ClassY(dif_real_usim5)\n",
    "x_bbas3 = ClassY(dif_prevista_bbas3)\n",
    "y_bbas3 = ClassY(dif_real_bbas3)\n",
    "\n",
    "\n",
    "matriz_petr4 = confusion_matrix(x_petr4,y_petr4)\n",
    "matriz_usim5 = confusion_matrix(x_usim5,y_usim5)\n",
    "matriz_bbas3 = confusion_matrix(x_bbas3,y_bbas3)"
   ]
  },
  {
   "cell_type": "code",
   "execution_count": 199,
   "metadata": {},
   "outputs": [
    {
     "data": {
      "text/plain": [
       "array([[13,  7],\n",
       "       [ 0,  0]])"
      ]
     },
     "execution_count": 199,
     "metadata": {},
     "output_type": "execute_result"
    }
   ],
   "source": [
    "matriz_petr4"
   ]
  },
  {
   "cell_type": "code",
   "execution_count": 200,
   "metadata": {},
   "outputs": [
    {
     "data": {
      "text/plain": [
       "array([[16,  4],\n",
       "       [ 0,  0]])"
      ]
     },
     "execution_count": 200,
     "metadata": {},
     "output_type": "execute_result"
    }
   ],
   "source": [
    "matriz_usim5"
   ]
  },
  {
   "cell_type": "code",
   "execution_count": 201,
   "metadata": {},
   "outputs": [
    {
     "data": {
      "text/plain": [
       "array([[14,  3],\n",
       "       [ 1,  2]])"
      ]
     },
     "execution_count": 201,
     "metadata": {},
     "output_type": "execute_result"
    }
   ],
   "source": [
    "matriz_bbas3"
   ]
  },
  {
   "cell_type": "code",
   "execution_count": 202,
   "metadata": {},
   "outputs": [
    {
     "name": "stdout",
     "output_type": "stream",
     "text": [
      "Relatório de classificação PETR4: \n",
      "               precision    recall  f1-score   support\n",
      "\n",
      "           0       1.00      0.65      0.79        20\n",
      "           1       0.00      0.00      0.00         0\n",
      "\n",
      "    accuracy                           0.65        20\n",
      "   macro avg       0.50      0.33      0.39        20\n",
      "weighted avg       1.00      0.65      0.79        20\n",
      "\n"
     ]
    },
    {
     "name": "stderr",
     "output_type": "stream",
     "text": [
      "/home/giovana/.pyenv/versions/3.8.2/lib/python3.8/site-packages/sklearn/metrics/_classification.py:1272: UndefinedMetricWarning: Recall and F-score are ill-defined and being set to 0.0 in labels with no true samples. Use `zero_division` parameter to control this behavior.\n",
      "  _warn_prf(average, modifier, msg_start, len(result))\n"
     ]
    }
   ],
   "source": [
    "print(\"Relatório de classificação PETR4: \\n\", classification_report(x_petr4, y_petr4))"
   ]
  },
  {
   "cell_type": "code",
   "execution_count": 203,
   "metadata": {},
   "outputs": [
    {
     "name": "stdout",
     "output_type": "stream",
     "text": [
      "Relatório de classificação USIM5: \n",
      "               precision    recall  f1-score   support\n",
      "\n",
      "           0       1.00      0.80      0.89        20\n",
      "           1       0.00      0.00      0.00         0\n",
      "\n",
      "    accuracy                           0.80        20\n",
      "   macro avg       0.50      0.40      0.44        20\n",
      "weighted avg       1.00      0.80      0.89        20\n",
      "\n"
     ]
    }
   ],
   "source": [
    "print(\"Relatório de classificação USIM5: \\n\", classification_report(x_usim5, y_usim5))"
   ]
  },
  {
   "cell_type": "code",
   "execution_count": 204,
   "metadata": {},
   "outputs": [
    {
     "name": "stdout",
     "output_type": "stream",
     "text": [
      "Relatório de classificação BBAS3: \n",
      "               precision    recall  f1-score   support\n",
      "\n",
      "           0       0.93      0.82      0.87        17\n",
      "           1       0.40      0.67      0.50         3\n",
      "\n",
      "    accuracy                           0.80        20\n",
      "   macro avg       0.67      0.75      0.69        20\n",
      "weighted avg       0.85      0.80      0.82        20\n",
      "\n"
     ]
    }
   ],
   "source": [
    "print(\"Relatório de classificação BBAS3: \\n\", classification_report(x_bbas3, y_bbas3))"
   ]
  },
  {
   "cell_type": "code",
   "execution_count": null,
   "metadata": {},
   "outputs": [],
   "source": []
  },
  {
   "cell_type": "code",
   "execution_count": null,
   "metadata": {},
   "outputs": [],
   "source": []
  }
 ],
 "metadata": {
  "kernelspec": {
   "display_name": "Python 3",
   "language": "python",
   "name": "python3"
  },
  "language_info": {
   "codemirror_mode": {
    "name": "ipython",
    "version": 3
   },
   "file_extension": ".py",
   "mimetype": "text/x-python",
   "name": "python",
   "nbconvert_exporter": "python",
   "pygments_lexer": "ipython3",
   "version": "3.8.2"
  }
 },
 "nbformat": 4,
 "nbformat_minor": 4
}
