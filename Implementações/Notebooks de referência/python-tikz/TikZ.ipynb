{
 "cells": [
  {
   "cell_type": "markdown",
   "metadata": {},
   "source": [
    "# Exportando gráficos criados com GridSpec para o TikZ "
   ]
  },
  {
   "cell_type": "code",
   "execution_count": 1,
   "metadata": {},
   "outputs": [],
   "source": [
    "import matplotlib as mpl\n",
    "import matplotlib.pyplot as plt\n",
    "import matplotlib.gridspec as gridspec\n",
    "import matplotlib.ticker as mtick\n",
    "import seaborn as sns\n",
    "import numpy as np"
   ]
  },
  {
   "cell_type": "code",
   "execution_count": 2,
   "metadata": {},
   "outputs": [],
   "source": [
    "mpl.use('pgf')"
   ]
  },
  {
   "cell_type": "markdown",
   "metadata": {},
   "source": [
    "## Construindo algumas funções"
   ]
  },
  {
   "cell_type": "code",
   "execution_count": 3,
   "metadata": {},
   "outputs": [],
   "source": [
    "x = np.linspace(-2*np.pi, 2*np.pi, 200)\n",
    "y1 = np.sin(x)\n",
    "y2 = np.cos(x)\n",
    "y3 = y1*y2"
   ]
  },
  {
   "cell_type": "code",
   "execution_count": 4,
   "metadata": {},
   "outputs": [],
   "source": [
    "# sns.set_style('whitegrid')\n",
    "sns.set_theme()\n",
    "\n",
    "fig = plt.figure(figsize=[7, 3])\n",
    "grid = gridspec.GridSpec(1, 2)  # uma linha, duas colunas  [ FIG1   FIG2 ]\n",
    "\n",
    "ax = fig.add_subplot(grid[0, 0])\n",
    "ax.plot(x, y1, label='$\\sin x$')\n",
    "ax.set_title('$y_1=\\sin x$')\n",
    "ax.set_xticks([-2*np.pi, 0, 2*np.pi])\n",
    "ax.set_xticklabels(['$-2\\pi$', '$0$', '$2\\pi$'])\n",
    "ax.set_yticks([-1, 0, 1])\n",
    "ax.set_yticklabels(['$-1', '$0$', '$1$'])  # Caso contrário não saem em modo matemático\n",
    "\n",
    "ax = fig.add_subplot(grid[0, 1])\n",
    "ax.plot(x, y2, label='$\\cos x$', color='#5F0D3B')\n",
    "ax.set_title('$y_2 = \\cos x$')\n",
    "ax.set_xticks([-2*np.pi, 0, 2*np.pi])\n",
    "ax.set_xticklabels(['$-2\\pi$', '$0$', '$2\\pi$'])\n",
    "ax.set_yticks([-1, 0, 1])\n",
    "ax.set_yticklabels(['$-1', '$0$', '$1$'])  # Caso contrário não saem em modo matemático\n",
    "\n",
    "plt.savefig('fig1.pgf', format='pgf')"
   ]
  },
  {
   "cell_type": "markdown",
   "metadata": {},
   "source": [
    "## Grids não precisam ser igualmente espaçados!"
   ]
  },
  {
   "cell_type": "code",
   "execution_count": 5,
   "metadata": {},
   "outputs": [],
   "source": [
    "# sns.set_style('whitegrid')\n",
    "sns.set_theme()\n",
    "\n",
    "fig = plt.figure(figsize=[7, 7])\n",
    "grid = gridspec.GridSpec(2, 2)  # interprete ;-)\n",
    "grid.update(top=0.95, bottom=0.05) # Ajustes nas margens do Grid (às vezes é necessário fazer manualmente)\n",
    "\n",
    "ax = fig.add_subplot(grid[0, 0])\n",
    "ax.plot(x, y1)\n",
    "ax.set_title('$y_1=\\sin x$')\n",
    "ax.set_xticks([-2*np.pi, 0, 2*np.pi])\n",
    "ax.set_xticklabels(['$-2\\pi$', '$0$', '$2\\pi$'])\n",
    "ax.set_yticks([-1, 0, 1])\n",
    "ax.set_yticklabels(['$-1', '$0$', '$1$'])  # Caso contrário não saem em modo matemático\n",
    "\n",
    "ax = fig.add_subplot(grid[0, 1])\n",
    "ax.plot(x, y2, color='#5F0D3B')\n",
    "ax.set_title('$y_2 = \\cos x$')\n",
    "ax.set_xticks([-2*np.pi, 0, 2*np.pi])\n",
    "ax.set_xticklabels(['$-2\\pi$', '$0$', '$2\\pi$'])\n",
    "ax.set_yticks([-1, 0, 1])\n",
    "ax.set_yticklabels(['$-1', '$0$', '$1$'])  # Caso contrário não saem em modo matemático\n",
    "\n",
    "ax = fig.add_subplot(grid[1, :])\n",
    "ax.plot(x, y3, color='#F0830F')\n",
    "ax.set_title('$y_3 = \\sin x\\,\\cos x$')\n",
    "ax.set_xticks([-2*np.pi, 0, 2*np.pi])\n",
    "ax.set_xticklabels(['$-2\\pi$', '$0$', '$2\\pi$'])\n",
    "ax.set_yticks([-0.5, 0, 0.5])\n",
    "ax.set_yticklabels(['$-\\\\frac{1}{2}$', '$0$', '$\\\\frac{1}{2}$'])\n",
    "\n",
    "plt.savefig('fig2.pgf', format='pgf')"
   ]
  },
  {
   "cell_type": "code",
   "execution_count": null,
   "metadata": {},
   "outputs": [],
   "source": []
  }
 ],
 "metadata": {
  "kernelspec": {
   "display_name": "Python 3",
   "language": "python",
   "name": "python3"
  },
  "language_info": {
   "codemirror_mode": {
    "name": "ipython",
    "version": 3
   },
   "file_extension": ".py",
   "mimetype": "text/x-python",
   "name": "python",
   "nbconvert_exporter": "python",
   "pygments_lexer": "ipython3",
   "version": "3.8.2"
  }
 },
 "nbformat": 4,
 "nbformat_minor": 5
}
