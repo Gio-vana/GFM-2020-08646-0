{
 "cells": [
  {
   "cell_type": "code",
   "execution_count": null,
   "metadata": {},
   "outputs": [],
   "source": [
    "from keras.models import Sequential\n",
    "from keras.layers import Dense, Dropout, LSTM\n",
    "from sklearn.preprocessing import MinMaxScaler\n",
    "import numpy as np\n",
    "import pandas as pd\n",
    "import matplotlib.pyplot as plt"
   ]
  },
  {
   "cell_type": "code",
   "execution_count": null,
   "metadata": {},
   "outputs": [],
   "source": [
    "# Criando a base de dados:\n",
    "base = pd.read_csv('petr4_treinamento.csv')\n",
    "base = base.dropna()"
   ]
  },
  {
   "cell_type": "code",
   "execution_count": null,
   "metadata": {},
   "outputs": [],
   "source": [
    "# Separando a coluna utilizada nas previsões:\n",
    "base_treinamento = base.iloc[:, 1:2].values"
   ]
  },
  {
   "cell_type": "code",
   "execution_count": null,
   "metadata": {},
   "outputs": [],
   "source": [
    "# Criando o normalizador:\n",
    "normalizador = MinMaxScaler(feature_range=(0,1))\n",
    "base_treinamento_normalizada = normalizador.fit_transform(base_treinamento)"
   ]
  },
  {
   "cell_type": "code",
   "execution_count": null,
   "metadata": {},
   "outputs": [],
   "source": [
    "# Criando os previsores utilizados em cada dia. Neste caso, utilizam-se os 90 dias anteriores para a previsão do preço de cada ação\n",
    "previsores = []\n",
    "preco_real = []\n",
    "for i in range(90, 1242):\n",
    "    previsores.append(base_treinamento_normalizada[i-90:i, 0])\n",
    "    preco_real.append(base_treinamento_normalizada[i, 0])"
   ]
  },
  {
   "cell_type": "code",
   "execution_count": null,
   "metadata": {},
   "outputs": [],
   "source": [
    "# Os previsores estão no formato de lista, precisamos transformá-lo em um array\n",
    "previsores, preco_real = np.array(previsores), np.array(preco_real)\n",
    "\n",
    "# Colocar a base de dados que servirá como entrada no formato do Keras:\n",
    "previsores = np.reshape(previsores, (previsores.shape[0], previsores.shape[1], 1))"
   ]
  },
  {
   "cell_type": "code",
   "execution_count": null,
   "metadata": {},
   "outputs": [],
   "source": [
    "# Criando a estrutura de uma rede de 4 camadas:\n",
    "regressor = Sequential()\n",
    "regressor.add(LSTM(units = 100, return_sequences = True, input_shape = (previsores.shape[1], 1)))\n",
    "regressor.add(Dropout(0.3))\n",
    "\n",
    "regressor.add(LSTM(units = 50, return_sequences = True))\n",
    "regressor.add(Dropout(0.3))\n",
    "\n",
    "regressor.add(LSTM(units = 50, return_sequences = True))\n",
    "regressor.add(Dropout(0.3))\n",
    "\n",
    "regressor.add(LSTM(units = 50))\n",
    "regressor.add(Dropout(0.3))\n",
    "\n",
    "regressor.add(Dense(units = 1, activation = 'linear'))\n",
    "\n",
    "regressor.compile(optimizer = 'rmsprop', loss = 'mean_squared_error',\n",
    "                  metrics = ['mean_absolute_error'])\n",
    "regressor.fit(previsores, preco_real, epochs = 100, batch_size = 32)"
   ]
  },
  {
   "cell_type": "code",
   "execution_count": null,
   "metadata": {},
   "outputs": [],
   "source": [
    "# Criando a base de teste:\n",
    "base_teste = pd.read_csv('petr4_teste.csv')\n",
    "preco_real_teste = base_teste.iloc[:, 1:2].values"
   ]
  },
  {
   "cell_type": "code",
   "execution_count": null,
   "metadata": {},
   "outputs": [],
   "source": [
    "# A rede foi treinada para prever utilizando os 90 dias anteriores.\n",
    "# Para solucionar este problema, já que nossa base de teste possui somente 22 dados, precisamos executar...\n",
    "# ... um código que consiga utilizar os 90 dias anteriores de cada um dos dados da base de teste.\n",
    "base_completa = pd.concat((base['Open'], base_teste['Open']), axis = 0)\n",
    "\n",
    "# Separar a parte útil:  últimos 90 dados da base de treinamento + a base de teste\n",
    "entradas = base_completa[len(base_completa) - len(base_teste) - 90:].values\n",
    "\n",
    "# Colocar no mesmo formato\n",
    "entradas = entradas.reshape(-1, 1)\n",
    "\n",
    "# Normalizar\n",
    "entradas = normalizador.transform(entradas)\n",
    "\n",
    "# Criando os previsores utilizados no teste:\n",
    "X_teste = []\n",
    "for i in range(90, 112):\n",
    "    X_teste.append(entradas[i-90:i, 0])\n",
    "\n",
    "# Transformando a lista em um array:\n",
    "X_teste = np.array(X_teste)\n",
    "\n",
    "# Colocando no formato exigido pela documentação do Keras:\n",
    "X_teste = np.reshape(X_teste, (X_teste.shape[0], X_teste.shape[1], 1))\n",
    "\n",
    "# Testando...\n",
    "previsoes = regressor.predict(X_teste)\n",
    "previsoes = normalizador.inverse_transform(previsoes)\n",
    "\n",
    "# Calculando a previsoes.mean()\n",
    "preco_real_teste.mean()\n",
    "    "
   ]
  },
  {
   "cell_type": "code",
   "execution_count": null,
   "metadata": {},
   "outputs": [],
   "source": [
    "previsoes = pd.DataFrame(previsoes)\n",
    "previsoes\n",
    "base_teste_comp = pd.concat((previsoes, base_teste['Open'], base_teste['Close']), axis = 1)\n",
    "base_teste_comp.columns = ['Prevision', 'Open', 'Close']\n",
    "base_teste_comp\n",
    "dif_real = base_teste_comp.Close - base_teste_comp.Open\n",
    "dif_prevista = base_teste_comp.Close - base_teste_comp.Prevision\n",
    "dif_real, dif_prevista\n",
    "def ClassY(dif):\n",
    "    ClasseY=[]\n",
    "    for element in dif:\n",
    "        if element>0:\n",
    "            element = 1\n",
    "            ClasseY.append(element)\n",
    "        else:\n",
    "            element = 0\n",
    "            ClasseY.append(element)\n",
    "    return ClasseY\n",
    "x = ClassY(dif_prevista)\n",
    "x\n",
    "y = ClassY(dif_real)\n",
    "y\n",
    "from sklearn.metrics import confusion_matrix, accuracy_score, classification_report\n",
    "matriz_petr4 = confusion_matrix(x,y)\n",
    "TN = matriz_petr4[0,0]\n",
    "FP = matriz_petr4[0,1]\n",
    "FN = matriz_petr4[1,0]\n",
    "TP = matriz_petr4[1,1]\n",
    "TN, FP, FN, TP, matriz_petr4\n",
    "print(\"Relatório de classificação PETR4: \\n\", classification_report(x, y))  \n",
    "# ACURÁCIA:\n",
    "acur = (TP+TN)/float(TP+TN+FP+FN)\n",
    "print(f'acurácia = {acur}')\n",
    "# RECALL:\n",
    "rec = (TP)/float(TP+FN)\n",
    "print(f'recall = {rec}')\n",
    "# ESPECIFICIDADE:\n",
    "esp = (TN)/float(TN+FP)\n",
    "print(f'especificidade = {esp}')\n",
    "# PRECISÃO:\n",
    "prec = (TP)/(TP+FP)\n",
    "print(f'precisão = {acur}')\n",
    "# F1-Score:\n",
    "f1_score = (2*prec*rec)/(prec + rec)\n",
    "print(f'F1 score = {f1_score}')"
   ]
  },
  {
   "cell_type": "code",
   "execution_count": null,
   "metadata": {},
   "outputs": [],
   "source": [
    "matriz_petr4"
   ]
  },
  {
   "cell_type": "code",
   "execution_count": null,
   "metadata": {},
   "outputs": [],
   "source": []
  }
 ],
 "metadata": {
  "kernelspec": {
   "display_name": "Python 3",
   "language": "python",
   "name": "python3"
  },
  "language_info": {
   "codemirror_mode": {
    "name": "ipython",
    "version": 3
   },
   "file_extension": ".py",
   "mimetype": "text/x-python",
   "name": "python",
   "nbconvert_exporter": "python",
   "pygments_lexer": "ipython3",
   "version": "3.8.2"
  }
 },
 "nbformat": 4,
 "nbformat_minor": 4
}
