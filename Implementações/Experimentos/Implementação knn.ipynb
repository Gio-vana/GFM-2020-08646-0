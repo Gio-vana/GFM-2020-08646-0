{
 "cells": [
  {
   "cell_type": "code",
   "execution_count": null,
   "metadata": {},
   "outputs": [],
   "source": [
    "import pandas as pd\n",
    "import pandas_datareader as pdr\n",
    "import datetime\n",
    "import numpy as np\n",
    "from sklearn.preprocessing import StandardScaler\n",
    "from sklearn.model_selection import train_test_split\n",
    "from sklearn.neighbors import KNeighborsClassifier\n",
    "from sklearn.metrics import confusion_matrix, accuracy_score, classification_report"
   ]
  },
  {
   "cell_type": "code",
   "execution_count": null,
   "metadata": {},
   "outputs": [],
   "source": [
    "# Importando a base de dados:\n",
    "petr4 = pdr.get_data_yahoo('PETR4.SA', start = datetime.datetime(2015,1, 5), end = datetime.datetime(2015, 12, 31))\n",
    "usim5 = pdr.get_data_yahoo('USIM5.SA', start = datetime.datetime(2015,1, 5), end = datetime.datetime(2015, 12, 31))\n",
    "bbas3 = pdr.get_data_yahoo('BBAS3.SA', start = datetime.datetime(2015,1, 5), end = datetime.datetime(2015, 12, 31))"
   ]
  },
  {
   "cell_type": "code",
   "execution_count": null,
   "metadata": {},
   "outputs": [],
   "source": [
    "# Excluindo dados faltantes:\n",
    "petr4 = petr4.dropna()\n",
    "usim5 = usim5.dropna()\n",
    "bbas3 = bbas3.dropna()"
   ]
  },
  {
   "cell_type": "code",
   "execution_count": null,
   "metadata": {},
   "outputs": [],
   "source": [
    "# Calculando a Classe Y:\n",
    "# Calculando a diferença:\n",
    "\n",
    "dif_petr4 = petr4.Close - petr4.Open\n",
    "dif_usim5 = usim5.Close - usim5.Open\n",
    "dif_bbas3 = bbas3.Close - bbas3.Open\n",
    "\n",
    "# Definindo a função Classe Y:\n",
    "\n",
    "def ClassY(dif):\n",
    "    ClasseY=[]\n",
    "    for element in dif:\n",
    "        if element>0:\n",
    "            element = 1\n",
    "            ClasseY.append(element)\n",
    "        else:\n",
    "            element = 0\n",
    "            ClasseY.append(element)\n",
    "    return ClasseY\n",
    "\n",
    "x = ClassY(dif_petr4)\n",
    "y = ClassY(dif_usim5)\n",
    "z = ClassY(dif_bbas3)\n",
    "\n",
    "# Transformar a Classe Y em um Array:\n",
    "ClasseY_petr4 = np.array(x)\n",
    "ClasseY_usim5 = np.array(y)\n",
    "ClasseY_bbas3 = np.array(z)"
   ]
  },
  {
   "cell_type": "code",
   "execution_count": null,
   "metadata": {},
   "outputs": [],
   "source": [
    "# Verificando...\n",
    "ClasseY_petr4"
   ]
  },
  {
   "cell_type": "code",
   "execution_count": null,
   "metadata": {},
   "outputs": [],
   "source": [
    "ClasseY_usim5"
   ]
  },
  {
   "cell_type": "code",
   "execution_count": null,
   "metadata": {},
   "outputs": [],
   "source": [
    "ClasseY_bbas3"
   ]
  },
  {
   "cell_type": "code",
   "execution_count": null,
   "metadata": {},
   "outputs": [],
   "source": [
    "# Fatiando o conjunto de dados para utilizar na previsão somente os preços de abertura e fechamento de mercado\n",
    "previsores_petr4 = petr4.iloc[:, 2:4].values\n",
    "previsores_usim5 = usim5.iloc[:, 2:4].values\n",
    "previsores_bbas3 = bbas3.iloc[:, 2:4].values"
   ]
  },
  {
   "cell_type": "code",
   "execution_count": null,
   "metadata": {},
   "outputs": [],
   "source": [
    "# Verificando...\n",
    "petr4.head(), previsores_petr4"
   ]
  },
  {
   "cell_type": "code",
   "execution_count": null,
   "metadata": {},
   "outputs": [],
   "source": [
    "usim5.head(), previsores_usim5"
   ]
  },
  {
   "cell_type": "code",
   "execution_count": null,
   "metadata": {},
   "outputs": [],
   "source": [
    "bbas3.head(), previsores_bbas3"
   ]
  },
  {
   "cell_type": "code",
   "execution_count": null,
   "metadata": {},
   "outputs": [],
   "source": [
    "# Padronizando os dados:\n",
    "escala = StandardScaler()\n",
    "previsao_petr4 = escala.fit_transform(previsores_petr4)\n",
    "previsao_usim5 = escala.fit_transform(previsores_usim5)\n",
    "previsao_bbas3 = escala.fit_transform(previsores_bbas3)"
   ]
  },
  {
   "cell_type": "code",
   "execution_count": null,
   "metadata": {},
   "outputs": [],
   "source": [
    "# Verificando...\n",
    "previsao_petr4, previsao_usim5, previsao_bbas3"
   ]
  },
  {
   "cell_type": "code",
   "execution_count": null,
   "metadata": {},
   "outputs": [],
   "source": [
    "# Criando os conjuntos de teste e treinamento\n",
    "previsores_petr4_treinamento, previsores_petr4_teste, ClasseY_petr4_treinamento, ClasseY_petr4_teste = train_test_split(previsores_petr4, ClasseY_petr4, test_size = 0.25, random_state = 0)\n",
    "previsores_usim5_treinamento, previsores_usim5_teste, ClasseY_usim5_treinamento, ClasseY_usim5_teste = train_test_split(previsores_usim5, ClasseY_usim5, test_size = 0.25, random_state = 0)\n",
    "previsores_bbas3_treinamento, previsores_bbas3_teste, ClasseY_bbas3_treinamento, ClasseY_bbas3_teste = train_test_split(previsores_bbas3, ClasseY_bbas3, test_size = 0.25, random_state = 0)"
   ]
  },
  {
   "cell_type": "code",
   "execution_count": null,
   "metadata": {},
   "outputs": [],
   "source": [
    "# Criando um classificador:\n",
    "classificador_petr4 = KNeighborsClassifier(n_neighbors=5, metric='minkowski', p = 2)\n",
    "classificador_petr4.fit(previsores_petr4_treinamento, ClasseY_petr4_treinamento)\n",
    "previsoes_petr4 = classificador_petr4.predict(previsores_petr4_teste)\n",
    "\n",
    "previsoes_petr4"
   ]
  },
  {
   "cell_type": "code",
   "execution_count": null,
   "metadata": {},
   "outputs": [],
   "source": [
    "classificador_usim5 = KNeighborsClassifier(n_neighbors=5, metric='minkowski', p = 2)\n",
    "classificador_usim5.fit(previsores_usim5_treinamento, ClasseY_usim5_treinamento)\n",
    "previsoes_usim5 = classificador_usim5.predict(previsores_usim5_teste)\n",
    "\n",
    "previsoes_usim5"
   ]
  },
  {
   "cell_type": "code",
   "execution_count": null,
   "metadata": {},
   "outputs": [],
   "source": [
    "classificador_bbas3 = KNeighborsClassifier(n_neighbors=5, metric='minkowski', p = 2)\n",
    "classificador_bbas3.fit(previsores_bbas3_treinamento, ClasseY_bbas3_treinamento)\n",
    "previsoes_bbas3 = classificador_bbas3.predict(previsores_bbas3_teste)\n",
    "\n",
    "previsoes_bbas3"
   ]
  },
  {
   "cell_type": "code",
   "execution_count": null,
   "metadata": {},
   "outputs": [],
   "source": [
    "# Calculando a precisão do algoritmo:\n",
    "precisao_petr4 = accuracy_score(ClasseY_petr4_teste, previsoes_petr4)\n",
    "precisao_usim5 = accuracy_score(ClasseY_usim5_teste, previsoes_usim5)\n",
    "precisao_bbas3 = accuracy_score(ClasseY_bbas3_teste, previsoes_bbas3)\n",
    "\n",
    "precisao_petr4, precisao_usim5, precisao_bbas3"
   ]
  },
  {
   "cell_type": "code",
   "execution_count": null,
   "metadata": {},
   "outputs": [],
   "source": [
    "matriz_petr4 = confusion_matrix(ClasseY_petr4_teste, previsoes_petr4)\n",
    "matriz_usim5 = confusion_matrix(ClasseY_usim5_teste, previsoes_usim5)\n",
    "matriz_bbas3 = confusion_matrix(ClasseY_bbas3_teste, previsoes_bbas3)\n",
    "\n",
    "matriz_petr4, matriz_usim5, matriz_bbas3"
   ]
  },
  {
   "cell_type": "code",
   "execution_count": null,
   "metadata": {},
   "outputs": [],
   "source": [
    "print(\"Relatório de classificação PETR4: \\n\", classification_report(ClasseY_petr4_teste, previsoes_petr4))  \n",
    "print(\"Relatório de classificação USIM5: \\n\", classification_report(ClasseY_usim5_teste, previsoes_usim5))  \n",
    "print(\"Relatório de classificação BBAS3: \\n\", classification_report(ClasseY_bbas3_teste, previsoes_bbas3))  "
   ]
  }
 ],
 "metadata": {
  "kernelspec": {
   "display_name": "Python 3",
   "language": "python",
   "name": "python3"
  },
  "language_info": {
   "codemirror_mode": {
    "name": "ipython",
    "version": 3
   },
   "file_extension": ".py",
   "mimetype": "text/x-python",
   "name": "python",
   "nbconvert_exporter": "python",
   "pygments_lexer": "ipython3",
   "version": "3.8.2"
  }
 },
 "nbformat": 4,
 "nbformat_minor": 4
}
