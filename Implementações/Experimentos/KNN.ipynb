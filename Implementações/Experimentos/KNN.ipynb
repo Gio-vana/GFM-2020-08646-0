{
 "cells": [
  {
   "cell_type": "code",
   "execution_count": null,
   "metadata": {},
   "outputs": [],
   "source": [
    "import numpy as np\n",
    "import pandas as pd\n",
    "import pandas_datareader as pdr\n",
    "from datetime import datetime"
   ]
  },
  {
   "cell_type": "code",
   "execution_count": null,
   "metadata": {},
   "outputs": [],
   "source": [
    "from sklearn.preprocessing import StandardScaler\n",
    "from sklearn.model_selection import train_test_split\n",
    "from sklearn.neighbors import KNeighborsClassifier\n",
    "from sklearn.metrics import confusion_matrix, accuracy_score, classification_report"
   ]
  },
  {
   "cell_type": "code",
   "execution_count": null,
   "metadata": {},
   "outputs": [],
   "source": [
    "class StockPredictKNN:\n",
    "    def __init__(self, stock_name_, from_, start_date_, end_date_, percent_=0.25):\n",
    "        self.stock_name = stock_name_\n",
    "        self.start_date = start_date_\n",
    "        self.end_date = end_date_\n",
    "        \n",
    "        self.success = self.__get_stock_positions(from_)\n",
    "\n",
    "        if self.success is True:\n",
    "            self.__split(percent_)\n",
    "            self.__fit()\n",
    "            self.__predict()\n",
    "            \n",
    "    def __get_stock_positions(self, from_):\n",
    "        # Download do dataframe.\n",
    "        try:\n",
    "            if from_ == 'yahoo':\n",
    "                self.stock = pdr.get_data_yahoo(self.stock_name,\n",
    "                                                start=datetime.fromisoformat(self.start_date),\n",
    "                                                end=datetime.fromisoformat(self.end_date))\n",
    "            else:\n",
    "                raise RuntimeError('Lamento, fonte de dados desconhecida.')\n",
    "        except pdr._utils.RemoteDataError as error:\n",
    "            print('Oops! Problema na recuperação dos dados!')\n",
    "            print(error)\n",
    "            return False\n",
    "        except:\n",
    "            print('Lamento, erro genérico!')\n",
    "            return False\n",
    "          \n",
    "        # Eliminando os N/A\n",
    "        self.stock.dropna()\n",
    "        \n",
    "        # Preços no fechamento em relação à abertura, rm R$\n",
    "        self.prices = self.stock[['Open', 'Close']].values\n",
    "        \n",
    "        # Delta no preço\n",
    "        diff = self.prices[:, 1]-self.prices[:, 0]\n",
    "        \n",
    "        # Array de 0s e 1s indicando descidas e subidas, respectivamente.\n",
    "        self.target = [0 if v < 0 else 1 for v in diff]\n",
    "        self.prices = StandardScaler().fit_transform(self.prices)\n",
    "        \n",
    "        return True\n",
    "        \n",
    "    def __split(self, percent_):\n",
    "        self.prices_train, self.prices_test, \\\n",
    "        self.target_train, self.target_test = train_test_split(\n",
    "            self.prices, self.target, test_size=percent_, random_state=0\n",
    "        )\n",
    "            \n",
    "    def __fit(self):\n",
    "        self.classifier = KNeighborsClassifier(n_neighbors=5, metric='minkowski', p=2)\n",
    "        self.classifier.fit(self.prices_train, self.target_train)\n",
    "        \n",
    "    def __predict(self):\n",
    "        self.future = self.classifier.predict(self.prices_test)\n",
    "        \n",
    "    def __str__(self):\n",
    "        if self.success is True:\n",
    "            s = f'RELATÓRIO PARA {self.stock_name} DE {self.start_date} ATÉ {self.end_date}\\n\\n'\n",
    "            s += classification_report(self.target_test, self.future)\n",
    "        else:\n",
    "            s = 'SEM DADOS PARA RELATÓRIO'\n",
    "        \n",
    "        return s"
   ]
  },
  {
   "cell_type": "code",
   "execution_count": null,
   "metadata": {},
   "outputs": [],
   "source": [
    "for stock in ['PETR4.SA', 'USIM5.SA', 'BBAS3.SA']:\n",
    "    stock_pred = StockPredictKNN(stock, 'yahoo', '2015-01-01', '2018-12-31')\n",
    "    print(stock_pred)"
   ]
  },
  {
   "cell_type": "code",
   "execution_count": null,
   "metadata": {},
   "outputs": [],
   "source": []
  }
 ],
 "metadata": {
  "kernelspec": {
   "display_name": "Python 3",
   "language": "python",
   "name": "python3"
  },
  "language_info": {
   "codemirror_mode": {
    "name": "ipython",
    "version": 3
   },
   "file_extension": ".py",
   "mimetype": "text/x-python",
   "name": "python",
   "nbconvert_exporter": "python",
   "pygments_lexer": "ipython3",
   "version": "3.8.2"
  }
 },
 "nbformat": 4,
 "nbformat_minor": 4
}
