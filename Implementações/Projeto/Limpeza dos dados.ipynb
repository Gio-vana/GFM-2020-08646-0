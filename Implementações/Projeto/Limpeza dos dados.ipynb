{
 "cells": [
  {
   "cell_type": "code",
   "execution_count": 6,
   "metadata": {},
   "outputs": [],
   "source": [
    "import pandas as pd"
   ]
  },
  {
   "cell_type": "code",
   "execution_count": 7,
   "metadata": {},
   "outputs": [],
   "source": [
    "# Significado das entradas da função 'leitura': leitura padrão\n",
    "# diretorio: digitar entre aspas o diretório em que os dados históricos estão hospedados. Exemplo:'/home/giovana/Área de Trabalho/Implementações/Projeto/Dados/sITE/MGLU3.SA.csv'\n",
    "# Chamando a função:\n",
    "# leitura('/home/giovana/Área de Trabalho/Implementações/Projeto/Dados/sITE/MGLU3.SA.csv')\n",
    "\n",
    "def leitura(diretorio):\n",
    "    serie = pd.read_csv(diretorio)\n",
    "    return serie\n",
    "\n",
    "# Para visualizar um número especícico de linhas, defina uma variável como a função 'leitura' e aplique o método '.head()'\n",
    "# Exemplo:\n",
    "# >>> x = leitura('/home/giovana/Área de Trabalho/Implementações/Projeto/Dados/sITE/MGLU3.SA.csv')\n",
    "# >>> x.head(15)"
   ]
  },
  {
   "cell_type": "code",
   "execution_count": 8,
   "metadata": {},
   "outputs": [],
   "source": [
    "# Significado das entradas da função 'removendo_valores_discrepantes': remover as linhas que apresentem como valores '0', 'Nan' ou 'null'\n",
    "# dados_historicos: recomenda-se definir a função leitura como uma variável que pode ser interpretada como parâmetro. Um exemplo é a variável 'dados'.\n",
    "# Chamando a função:\n",
    "# removendo_volume_zerado(dados)\n",
    "\n",
    "def removendo_valores_discrepantes(dados_historicos):\n",
    "    dados_historicos = dados_historicos[dados_historicos['Volume']>0]\n",
    "    return dados_historicos"
   ]
  },
  {
   "cell_type": "code",
   "execution_count": 12,
   "metadata": {},
   "outputs": [],
   "source": [
    "# Significado das entradas da função 'removendo_dados_duplicados': remover linhas repetidas e preservando somente a linha 'original'\n",
    "# dados_historicos: recomenda-se definir a função leitura como uma variável que pode ser interpretada como parâmetro. Um exemplo é a variável 'dados'.\n",
    "# Chamando a função:\n",
    "# removendo_dados_duplicados(dados)\n",
    "\n",
    "def removendo_dados_duplicados(dados_historicos):\n",
    "    dados_historicos = dados_historicos.drop_duplicates()\n",
    "    return dados_historicos"
   ]
  },
  {
   "cell_type": "code",
   "execution_count": 13,
   "metadata": {},
   "outputs": [],
   "source": [
    "# Significado das entradas da função 'remover_coluna_date': remover a coluna 'date', porque no processo de normalização dos dados não são aceitos dados no formato  de data\n",
    "# dados_historicos: recomenda-se definir a função leitura como uma variável que pode ser interpretada como parâmetro. Um exemplo é a variável 'dados'.\n",
    "# Chamando a função:\n",
    "# remover_coluna_date(dados)\n",
    "def remover_coluna_date(dados_historicos):\n",
    "    dados_sem_data = dados_historicos.drop(columns=['Date'])\n",
    "    return dados_sem_data"
   ]
  }
 ],
 "metadata": {
  "kernelspec": {
   "display_name": "Python 3",
   "language": "python",
   "name": "python3"
  },
  "language_info": {
   "codemirror_mode": {
    "name": "ipython",
    "version": 3
   },
   "file_extension": ".py",
   "mimetype": "text/x-python",
   "name": "python",
   "nbconvert_exporter": "python",
   "pygments_lexer": "ipython3",
   "version": "3.8.2"
  }
 },
 "nbformat": 4,
 "nbformat_minor": 4
}
