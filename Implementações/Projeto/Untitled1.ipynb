{
 "cells": [
  {
   "cell_type": "code",
   "execution_count": 1,
   "metadata": {},
   "outputs": [],
   "source": [
    "import pandas as pd\n",
    "import fix_yahoo_finance as yf\n",
    "import numpy as np\n",
    "import requests, zipfile\n",
    "from sklearn.preprocessing import MinMaxScaler\n",
    "from io import StringIO"
   ]
  },
  {
   "cell_type": "code",
   "execution_count": null,
   "metadata": {},
   "outputs": [],
   "source": [
    "# Significado das entradas da função 'armazenar':\n",
    "# codigo: digitar o código da ação entre aspas (Exemplo:'PETR4.SA' )\n",
    "# inicio: digitar o primeiro dia em que os dados foram coletados entre aspas e seguindo o modelo AAAA-MM-DD.\n",
    "# final:  digitar o último dia em que os dados foram coletados entre aspas e seguindo o modelo AAAA-MM-DD (Exemplo: '1999-03-09')\n",
    "\n",
    "def armazenamento(codigo, inicio, final):\n",
    "    serie = yf.download(codigo, start = inicio, end = final)\n",
    "    comprimir = dict(method='zip', archive_name= input('Diretório do arquivo csv:')) \n",
    "    serie.to_csv(input('Diretório do arquivo zip:'), index=False, compression=comprimir)"
   ]
  },
  {
   "cell_type": "code",
   "execution_count": null,
   "metadata": {},
   "outputs": [
    {
     "name": "stderr",
     "output_type": "stream",
     "text": [
      "Exception in thread Thread-4:\n",
      "Traceback (most recent call last):\n",
      "  File \"/home/giovana/.pyenv/versions/3.8.2/lib/python3.8/site-packages/urllib3/response.py\", line 425, in _error_catcher\n",
      "    yield\n",
      "  File \"/home/giovana/.pyenv/versions/3.8.2/lib/python3.8/site-packages/urllib3/response.py\", line 755, in read_chunked\n",
      "    chunk = self._handle_chunk(amt)\n",
      "  File \"/home/giovana/.pyenv/versions/3.8.2/lib/python3.8/site-packages/urllib3/response.py\", line 708, in _handle_chunk\n",
      "    returned_chunk = self._fp._safe_read(self.chunk_left)\n",
      "  File \"/home/giovana/.pyenv/versions/3.8.2/lib/python3.8/http/client.py\", line 610, in _safe_read\n",
      "    raise IncompleteRead(data, amt-len(data))\n",
      "http.client.IncompleteRead: IncompleteRead(2866 bytes read, 858 more expected)\n",
      "\n",
      "During handling of the above exception, another exception occurred:\n",
      "\n",
      "Traceback (most recent call last):\n",
      "  File \"/home/giovana/.pyenv/versions/3.8.2/lib/python3.8/site-packages/requests/models.py\", line 751, in generate\n",
      "    for chunk in self.raw.stream(chunk_size, decode_content=True):\n",
      "  File \"/home/giovana/.pyenv/versions/3.8.2/lib/python3.8/site-packages/urllib3/response.py\", line 560, in stream\n",
      "    for line in self.read_chunked(amt, decode_content=decode_content):\n",
      "  File \"/home/giovana/.pyenv/versions/3.8.2/lib/python3.8/site-packages/urllib3/response.py\", line 781, in read_chunked\n",
      "    self._original_response.close()\n",
      "  File \"/home/giovana/.pyenv/versions/3.8.2/lib/python3.8/contextlib.py\", line 131, in __exit__\n",
      "    self.gen.throw(type, value, traceback)\n",
      "  File \"/home/giovana/.pyenv/versions/3.8.2/lib/python3.8/site-packages/urllib3/response.py\", line 443, in _error_catcher\n",
      "    raise ProtocolError(\"Connection broken: %r\" % e, e)\n",
      "urllib3.exceptions.ProtocolError: ('Connection broken: IncompleteRead(2866 bytes read, 858 more expected)', IncompleteRead(2866 bytes read, 858 more expected))\n",
      "\n",
      "During handling of the above exception, another exception occurred:\n",
      "\n",
      "Traceback (most recent call last):\n",
      "  File \"/home/giovana/.pyenv/versions/3.8.2/lib/python3.8/threading.py\", line 932, in _bootstrap_inner\n",
      "    self.run()\n",
      "  File \"/home/giovana/.pyenv/versions/3.8.2/lib/python3.8/threading.py\", line 870, in run\n",
      "    self._target(*self._args, **self._kwargs)\n",
      "  File \"/home/giovana/.pyenv/versions/3.8.2/lib/python3.8/site-packages/multitasking/__init__.py\", line 102, in _run_via_pool\n",
      "    return callee(*args, **kwargs)\n",
      "  File \"/home/giovana/.pyenv/versions/3.8.2/lib/python3.8/site-packages/fix_yahoo_finance/__init__.py\", line 304, in _download_one_threaded\n",
      "    data = _download_one(ticker, start, end, auto_adjust, actions,\n",
      "  File \"/home/giovana/.pyenv/versions/3.8.2/lib/python3.8/site-packages/fix_yahoo_finance/__init__.py\", line 314, in _download_one\n",
      "    return Ticker(ticker).history(period=period, interval=interval,\n",
      "  File \"/home/giovana/.pyenv/versions/3.8.2/lib/python3.8/site-packages/fix_yahoo_finance/__init__.py\", line 233, in history\n",
      "    data = _requests.get(url=url, params=params).json()\n",
      "  File \"/home/giovana/.pyenv/versions/3.8.2/lib/python3.8/site-packages/requests/api.py\", line 76, in get\n",
      "    return request('get', url, params=params, **kwargs)\n",
      "  File \"/home/giovana/.pyenv/versions/3.8.2/lib/python3.8/site-packages/requests/api.py\", line 61, in request\n",
      "    return session.request(method=method, url=url, **kwargs)\n",
      "  File \"/home/giovana/.pyenv/versions/3.8.2/lib/python3.8/site-packages/requests/sessions.py\", line 530, in request\n",
      "    resp = self.send(prep, **send_kwargs)\n",
      "  File \"/home/giovana/.pyenv/versions/3.8.2/lib/python3.8/site-packages/requests/sessions.py\", line 683, in send\n",
      "    r.content\n",
      "  File \"/home/giovana/.pyenv/versions/3.8.2/lib/python3.8/site-packages/requests/models.py\", line 829, in content\n",
      "    self._content = b''.join(self.iter_content(CONTENT_CHUNK_SIZE)) or b''\n",
      "  File \"/home/giovana/.pyenv/versions/3.8.2/lib/python3.8/site-packages/requests/models.py\", line 754, in generate\n",
      "    raise ChunkedEncodingError(e)\n",
      "requests.exceptions.ChunkedEncodingError: ('Connection broken: IncompleteRead(2866 bytes read, 858 more expected)', IncompleteRead(2866 bytes read, 858 more expected))\n"
     ]
    }
   ],
   "source": [
    "armazenamento('ITUB4.SA', \"2011-05-02\", \"2020-11-30\")"
   ]
  },
  {
   "cell_type": "code",
   "execution_count": null,
   "metadata": {},
   "outputs": [],
   "source": [
    "def descompactar(codigo):\n",
    "    descompac = requests.get(input('Diretório do arquivo zip:'))\n",
    "    lendo = zipfile.ZipFile(StringIO.StringIO(descompac.content))\n",
    "    codigo = pd.read_csv(lendo.read('Diretório do arquivo csv:'))\n",
    "    codigo"
   ]
  }
 ],
 "metadata": {
  "kernelspec": {
   "display_name": "Python 3",
   "language": "python",
   "name": "python3"
  },
  "language_info": {
   "codemirror_mode": {
    "name": "ipython",
    "version": 3
   },
   "file_extension": ".py",
   "mimetype": "text/x-python",
   "name": "python",
   "nbconvert_exporter": "python",
   "pygments_lexer": "ipython3",
   "version": "3.8.2"
  }
 },
 "nbformat": 4,
 "nbformat_minor": 4
}
