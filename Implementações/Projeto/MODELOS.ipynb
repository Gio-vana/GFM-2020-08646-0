{
 "cells": [
  {
   "cell_type": "markdown",
   "metadata": {},
   "source": [
    "# Normalizador"
   ]
  },
  {
   "cell_type": "code",
   "execution_count": null,
   "metadata": {},
   "outputs": [],
   "source": [
    "def normalizador(indicadores):\n",
    "    indicadores = MinMaxScaler(feature_range=(0,1)).fit_transform(indicadores)\n",
    "    return indicadores"
   ]
  },
  {
   "cell_type": "markdown",
   "metadata": {},
   "source": [
    "# Modelo1"
   ]
  },
  {
   "cell_type": "code",
   "execution_count": 1,
   "metadata": {},
   "outputs": [],
   "source": [
    "def reshape_target(target):\n",
    "    target_reshape = target.reshape(len(target), )\n",
    "    return target_reshape"
   ]
  },
  {
   "cell_type": "code",
   "execution_count": 2,
   "metadata": {},
   "outputs": [],
   "source": [
    "def modelo(C, kernel, gamma, vetor_caracteristica_treinamento, rotulo_treinamento, vetor_caracteristica_teste):\n",
    "    model = svm.SVC(C = C, kernel= kernel, gamma= gamma) \n",
    "    model.fit(vetor_caracteristica_treinamento, rotulo_treinamento)\n",
    "    predicted= model.predict(vetor_caracteristica_teste)\n",
    "    return predicted"
   ]
  },
  {
   "cell_type": "code",
   "execution_count": null,
   "metadata": {},
   "outputs": [],
   "source": []
  }
 ],
 "metadata": {
  "kernelspec": {
   "display_name": "Python 3",
   "language": "python",
   "name": "python3"
  },
  "language_info": {
   "codemirror_mode": {
    "name": "ipython",
    "version": 3
   },
   "file_extension": ".py",
   "mimetype": "text/x-python",
   "name": "python",
   "nbconvert_exporter": "python",
   "pygments_lexer": "ipython3",
   "version": "3.8.2"
  }
 },
 "nbformat": 4,
 "nbformat_minor": 4
}
