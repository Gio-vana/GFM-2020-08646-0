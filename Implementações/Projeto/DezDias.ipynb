{
 "cells": [
  {
   "cell_type": "code",
   "execution_count": null,
   "metadata": {},
   "outputs": [],
   "source": [
    "import import_ipynb"
   ]
  },
  {
   "cell_type": "code",
   "execution_count": null,
   "metadata": {},
   "outputs": [],
   "source": [
    "import function"
   ]
  },
  {
   "cell_type": "markdown",
   "metadata": {},
   "source": [
    "\n",
    "# Executando as funções"
   ]
  },
  {
   "cell_type": "markdown",
   "metadata": {},
   "source": [
    "## Limpeza e Padronização"
   ]
  },
  {
   "cell_type": "code",
   "execution_count": null,
   "metadata": {},
   "outputs": [],
   "source": [
    "# Acessando os dados:\n",
    "dados_mglu3 = function.leitura('/home/giovana/Área de Trabalho/Implementações/Projeto/Dados/sITE/MGLU3.SA.csv')\n",
    "dados_petr4 = function.leitura('/home/giovana/Área de Trabalho/Implementações/Projeto/Dados/sITE/PETR4.SA.csv')\n",
    "dados_itub4 = function.leitura('/home/giovana/Área de Trabalho/Implementações/Projeto/Dados/sITE/ITUB4.SA.csv')"
   ]
  },
  {
   "cell_type": "code",
   "execution_count": null,
   "metadata": {},
   "outputs": [],
   "source": [
    "# Removendo valores discrepantes ('Nan', 'null', '0.0'):\n",
    "dados_mglu3 = function.removendo_valores_discrepantes(dados_mglu3)\n",
    "dados_petr4 = function.removendo_valores_discrepantes(dados_petr4)\n",
    "dados_itub4 = function.removendo_valores_discrepantes(dados_itub4)"
   ]
  },
  {
   "cell_type": "code",
   "execution_count": null,
   "metadata": {},
   "outputs": [],
   "source": [
    "# Removendo dados duplicados:\n",
    "dados_mglu3 = function.removendo_dados_duplicados(dados_mglu3)\n",
    "dados_petr4 = function.removendo_dados_duplicados(dados_petr4)\n",
    "dados_itub4 = function.removendo_dados_duplicados(dados_itub4)"
   ]
  },
  {
   "cell_type": "code",
   "execution_count": null,
   "metadata": {},
   "outputs": [],
   "source": [
    "# Removendo a coluna data:\n",
    "dados_mglu3 = function.remover_coluna_date(dados_mglu3)\n",
    "dados_petr4 = function.remover_coluna_date(dados_petr4)\n",
    "dados_itub4 = function.remover_coluna_date(dados_itub4)"
   ]
  },
  {
   "cell_type": "markdown",
   "metadata": {},
   "source": [
    "## Indicadores técnicos"
   ]
  },
  {
   "cell_type": "code",
   "execution_count": null,
   "metadata": {
    "scrolled": true
   },
   "outputs": [],
   "source": [
    "# Calculando a média móvel simples e classificando o indicador técnico:\n",
    "dados_mglu3 = function.MMS(dados_mglu3, 10)\n",
    "dados_petr4 = function.MMS(dados_petr4, 10)\n",
    "dados_itub4 = function.MMS(dados_itub4, 10)"
   ]
  },
  {
   "cell_type": "code",
   "execution_count": null,
   "metadata": {},
   "outputs": [],
   "source": [
    "# Calculando a média móvel exponencial e classificando o indicador técnico:\n",
    "dados_mglu3 = function.MME(dados_mglu3, 10, 6)\n",
    "dados_petr4 = function.MME(dados_petr4, 10, 6)\n",
    "dados_itub4 = function.MME(dados_itub4, 10, 6)"
   ]
  },
  {
   "cell_type": "code",
   "execution_count": null,
   "metadata": {},
   "outputs": [],
   "source": [
    "# Calculando a MACD e classificando o indicador técnico:\n",
    "dados_mglu3 = function.MACD(dados_mglu3)\n",
    "dados_petr4 = function.MACD(dados_petr4)\n",
    "dados_itub4 = function.MACD(dados_itub4)"
   ]
  },
  {
   "cell_type": "code",
   "execution_count": null,
   "metadata": {},
   "outputs": [],
   "source": [
    "# Calculando o Índice de Força Relativa e classificando o indicador técnico:\n",
    "dados_mglu3 = function.RSI(dados_mglu3, 10)\n",
    "dados_petr4 = function.RSI(dados_petr4, 10)\n",
    "dados_itub4 = function.RSI(dados_itub4, 10)"
   ]
  },
  {
   "cell_type": "code",
   "execution_count": null,
   "metadata": {},
   "outputs": [],
   "source": [
    "dados_petr4.tail(20)"
   ]
  },
  {
   "cell_type": "markdown",
   "metadata": {},
   "source": [
    "## Criando o conjunto com os indicadores e targets de treinamento:"
   ]
  },
  {
   "cell_type": "code",
   "execution_count": null,
   "metadata": {},
   "outputs": [],
   "source": [
    "indicadores_mglu3_treinamento = function.conjunto_indicadores_treinamento(dados_mglu3)\n",
    "indicadores_petr4_treinamento = function.conjunto_indicadores_treinamento(dados_petr4)\n",
    "indicadores_itub4_treinamento = function.conjunto_indicadores_treinamento(dados_itub4)"
   ]
  },
  {
   "cell_type": "code",
   "execution_count": null,
   "metadata": {},
   "outputs": [],
   "source": [
    "indicadores_mglu3_treinamento.head(50)"
   ]
  },
  {
   "cell_type": "code",
   "execution_count": null,
   "metadata": {},
   "outputs": [],
   "source": [
    "target_mglu3_treinamento = function.target_treinamento(dados_mglu3)\n",
    "target_petr4_treinamento = function.target_treinamento(dados_petr4)\n",
    "target_itub4_treinamento = function.target_treinamento(dados_itub4)"
   ]
  },
  {
   "cell_type": "code",
   "execution_count": null,
   "metadata": {},
   "outputs": [],
   "source": [
    "target_mglu3_treinamento"
   ]
  },
  {
   "cell_type": "markdown",
   "metadata": {},
   "source": [
    "## Criando o conjunto com os indicadores e targets de teste:"
   ]
  },
  {
   "cell_type": "code",
   "execution_count": null,
   "metadata": {},
   "outputs": [],
   "source": [
    "indicadores_mglu3_teste = function.conjunto_indicadores_teste(dados_mglu3)\n",
    "indicadores_petr4_teste = function.conjunto_indicadores_teste(dados_petr4)\n",
    "indicadores_itub4_teste = function.conjunto_indicadores_teste(dados_itub4)"
   ]
  },
  {
   "cell_type": "code",
   "execution_count": null,
   "metadata": {},
   "outputs": [],
   "source": [
    "indicadores_mglu3_teste.tail(50)"
   ]
  },
  {
   "cell_type": "code",
   "execution_count": null,
   "metadata": {},
   "outputs": [],
   "source": [
    "target_mglu3_teste= function.target_teste(dados_mglu3)\n",
    "target_petr4_teste= function.target_teste(dados_petr4)\n",
    "target_itub4_teste= function.target_teste(dados_itub4)"
   ]
  },
  {
   "cell_type": "markdown",
   "metadata": {},
   "source": [
    "## Normalizando os dados"
   ]
  },
  {
   "cell_type": "markdown",
   "metadata": {},
   "source": [
    "* treinamento"
   ]
  },
  {
   "cell_type": "code",
   "execution_count": null,
   "metadata": {},
   "outputs": [],
   "source": [
    "indicadores_mglu3_treinamento = function.normalizador(indicadores_mglu3_treinamento)\n",
    "indicadores_petr4_treinamento = function.normalizador(indicadores_petr4_treinamento)\n",
    "indicadores_itub4_treinamento = function.normalizador(indicadores_itub4_treinamento)"
   ]
  },
  {
   "cell_type": "code",
   "execution_count": null,
   "metadata": {},
   "outputs": [],
   "source": [
    "target_mglu3_treinamento= function.normalizador(target_mglu3_treinamento)\n",
    "target_petr4_treinamento= function.normalizador(target_petr4_treinamento)\n",
    "target_itub4_treinamento= function.normalizador(target_itub4_treinamento)"
   ]
  },
  {
   "cell_type": "code",
   "execution_count": null,
   "metadata": {},
   "outputs": [],
   "source": [
    "target_mglu3_treinamento"
   ]
  },
  {
   "cell_type": "code",
   "execution_count": null,
   "metadata": {},
   "outputs": [],
   "source": [
    "target_mglu3_treinamento= function.reshape_target(target_mglu3_treinamento)\n",
    "target_petr4_treinamento= function.reshape_target(target_petr4_treinamento)\n",
    "target_itub4_treinamento= function.reshape_target(target_itub4_treinamento)"
   ]
  },
  {
   "cell_type": "code",
   "execution_count": null,
   "metadata": {},
   "outputs": [],
   "source": [
    "target_mglu3_treinamento"
   ]
  },
  {
   "cell_type": "markdown",
   "metadata": {},
   "source": [
    "* teste"
   ]
  },
  {
   "cell_type": "code",
   "execution_count": null,
   "metadata": {},
   "outputs": [],
   "source": [
    "indicadores_mglu3_teste = function.normalizador(indicadores_mglu3_teste)\n",
    "indicadores_petr4_teste = function.normalizador(indicadores_petr4_teste)\n",
    "indicadores_itub4_teste = function.normalizador(indicadores_itub4_teste)"
   ]
  },
  {
   "cell_type": "code",
   "execution_count": null,
   "metadata": {},
   "outputs": [],
   "source": [
    "indicadores_itub4_treinamento"
   ]
  },
  {
   "cell_type": "code",
   "execution_count": null,
   "metadata": {},
   "outputs": [],
   "source": [
    "target_mglu3_teste= function.normalizador(target_mglu3_teste)\n",
    "target_petr4_teste= function.normalizador(target_petr4_teste)\n",
    "target_itub4_teste= function.normalizador(target_itub4_teste)"
   ]
  },
  {
   "cell_type": "code",
   "execution_count": null,
   "metadata": {},
   "outputs": [],
   "source": [
    "target_mglu3_teste"
   ]
  },
  {
   "cell_type": "code",
   "execution_count": null,
   "metadata": {},
   "outputs": [],
   "source": [
    "target_mglu3_teste= function.reshape_target(target_mglu3_teste)\n",
    "target_petr4_teste= function.reshape_target(target_petr4_teste)\n",
    "target_itub4_teste= function.reshape_target(target_itub4_teste)"
   ]
  },
  {
   "cell_type": "code",
   "execution_count": null,
   "metadata": {},
   "outputs": [],
   "source": [
    "target_mglu3_teste"
   ]
  },
  {
   "cell_type": "markdown",
   "metadata": {},
   "source": [
    "### Modelos"
   ]
  },
  {
   "cell_type": "code",
   "execution_count": null,
   "metadata": {},
   "outputs": [],
   "source": [
    "mod1_mglu3 = function.modelo(1.0, 'rbf','scale', indicadores_mglu3_treinamento, target_mglu3_treinamento, indicadores_mglu3_teste)\n",
    "mod1_petr4 = function.modelo(1.0, 'rbf','scale', indicadores_petr4_treinamento, target_petr4_treinamento, indicadores_petr4_teste)\n",
    "mod1_itub4 = function.modelo(1.0, 'rbf','scale', indicadores_itub4_treinamento, target_itub4_treinamento, indicadores_itub4_teste)"
   ]
  },
  {
   "cell_type": "code",
   "execution_count": null,
   "metadata": {},
   "outputs": [],
   "source": [
    "matriz_mglu3 = function.confusion_matrix(mod1_mglu3,target_mglu3_teste)\n",
    "matriz_petr4 = function.confusion_matrix(mod1_petr4,target_petr4_teste)\n",
    "matriz_itub4 = function.confusion_matrix(mod1_itub4,target_itub4_teste)"
   ]
  },
  {
   "cell_type": "code",
   "execution_count": null,
   "metadata": {},
   "outputs": [],
   "source": [
    "#tn: 198, fp: 71, fn: 12, tp: 425\n",
    "matriz_mglu3"
   ]
  },
  {
   "cell_type": "code",
   "execution_count": null,
   "metadata": {},
   "outputs": [],
   "source": [
    "#tn: 284, fp: 45, fn: 12, tp: 358\n",
    "matriz_petr4"
   ]
  },
  {
   "cell_type": "code",
   "execution_count": null,
   "metadata": {},
   "outputs": [],
   "source": [
    "#tn: 380, fp: 91, fn: 3, tp: 227\n",
    "matriz_itub4"
   ]
  },
  {
   "cell_type": "markdown",
   "metadata": {},
   "source": [
    "A acurácia (A) corresponde à taxa de acertos do modelo e relaciona o total de entradas previdas corretamente com o total de previsões\n",
    "\n",
    "$$\n",
    "A = \\frac{t_p + t_n}{t_p + t_n + f_p + f_n}\n",
    "$$\n",
    "\n",
    "\n",
    "A precisão (P) corresponde à taxa de acerto de previsões positivas e relaciona os verdadeiros positivos com o total de positivos previstos\n",
    "\n",
    "$$P = \\frac{t_p}{t_p + f_p}$$\n",
    "\n",
    "\n",
    "A métrica recall (R) indica o número de valores previstos corretamente dentro de uma classe relacionando o número de previsões corretas em uma classe e o número total de ocorrências dela e, portanto, pode ser calculado para ambas as classes\n",
    "$$R =\\frac{t_p}{t_p + f_n}$$\n",
    "\n",
    "A F1-score representa a média harmônica entre as medidas de precisão e recall\n",
    "$$F1 = \\frac{2RP}{P + R}$$"
   ]
  },
  {
   "cell_type": "code",
   "execution_count": null,
   "metadata": {},
   "outputs": [],
   "source": [
    "print(\"Relatório de classificação MGLU3: \\n\", function.classification_report(target_mglu3_teste, mod1_mglu3))"
   ]
  },
  {
   "cell_type": "code",
   "execution_count": null,
   "metadata": {},
   "outputs": [],
   "source": [
    "print(\"Relatório de classificação PETR4: \\n\", function.classification_report(target_petr4_teste, mod1_petr4))"
   ]
  },
  {
   "cell_type": "code",
   "execution_count": null,
   "metadata": {},
   "outputs": [],
   "source": [
    "print(\"Relatório de classificação ITUB4: \\n\", function.classification_report(target_itub4_teste, mod1_itub4))"
   ]
  },
  {
   "cell_type": "code",
   "execution_count": null,
   "metadata": {},
   "outputs": [],
   "source": [
    "relatorio_mod1_mglu3 = function.relatorio(mod1_mglu3, target_mglu3_teste)\n",
    "relatorio_mod1_mglu3"
   ]
  },
  {
   "cell_type": "markdown",
   "metadata": {},
   "source": [
    "### GridSearchCV \n",
    "\n",
    " O GridSearchCV pega um dicionário que descreve os parâmetros que podem ser experimentados em um modelo para treiná-lo. A grade de parâmetros é definida como um dicionário, onde as chaves são os parâmetros e os valores são as configurações a serem testadas."
   ]
  },
  {
   "cell_type": "code",
   "execution_count": null,
   "metadata": {
    "scrolled": false
   },
   "outputs": [],
   "source": [
    "mod2_mglu3 = function.model_grid(indicadores_mglu3_treinamento, indicadores_mglu3_teste, target_mglu3_treinamento, target_mglu3_teste)"
   ]
  },
  {
   "cell_type": "code",
   "execution_count": null,
   "metadata": {},
   "outputs": [],
   "source": [
    "relatorio_mod1_mglu3 = function.relatorio(mod1_mglu3, target_mglu3_teste)\n",
    "relatorio_mod1_mglu3"
   ]
  },
  {
   "cell_type": "code",
   "execution_count": null,
   "metadata": {},
   "outputs": [],
   "source": [
    "mod2_petr4 = function.model_grid(indicadores_petr4_treinamento, indicadores_petr4_teste, target_petr4_treinamento, target_petr4_teste)"
   ]
  },
  {
   "cell_type": "code",
   "execution_count": null,
   "metadata": {},
   "outputs": [],
   "source": [
    "relatorio_mod1_petr4 = function.relatorio(mod1_petr4, target_petr4_teste)\n",
    "relatorio_mod1_petr4"
   ]
  },
  {
   "cell_type": "code",
   "execution_count": null,
   "metadata": {},
   "outputs": [],
   "source": [
    "mod2_itub4 = function.model_grid(indicadores_itub4_treinamento, indicadores_itub4_teste, target_itub4_treinamento, target_itub4_teste)"
   ]
  },
  {
   "cell_type": "code",
   "execution_count": null,
   "metadata": {},
   "outputs": [],
   "source": [
    "relatorio_mod1_itub4 = function.relatorio(mod1_itub4, target_itub4_teste)\n",
    "relatorio_mod1_itub4 "
   ]
  },
  {
   "cell_type": "markdown",
   "metadata": {},
   "source": [
    "A acurácia (A) corresponde à taxa de acertos do modelo e relaciona o total de entradas previdas corretamente com o total de previsões\n",
    "\n",
    "$$\n",
    "A = \\frac{t_p + t_n}{t_p + t_n + f_p + f_n}\n",
    "$$\n",
    "\n",
    "\n",
    "A precisão (P) corresponde à taxa de acerto de previsões positivas e relaciona os verdadeiros positivos com o total de positivos previstos\n",
    "\n",
    "$$P = \\frac{t_p}{t_p + f_p}$$\n",
    "\n",
    "\n",
    "A métrica recall (R) indica o número de valores previstos corretamente dentro de uma classe relacionando o número de previsões corretas em uma classe e o número total de ocorrências dela e, portanto, pode ser calculado para ambas as classes\n",
    "$$R =\\frac{t_p}{t_p + f_n}$$\n",
    "\n",
    "A F1-score representa a média harmônica entre as medidas de precisão e recall\n",
    "$$F1 = \\frac{2RP}{P + R}$$"
   ]
  },
  {
   "cell_type": "markdown",
   "metadata": {},
   "source": [
    "## LSTM"
   ]
  },
  {
   "cell_type": "code",
   "execution_count": null,
   "metadata": {},
   "outputs": [],
   "source": [
    "LSTM1_mglu3 = function.lstm1(indicadores_mglu3_treinamento, indicadores_mglu3_teste, target_mglu3_treinamento, target_mglu3_teste)"
   ]
  },
  {
   "cell_type": "code",
   "execution_count": null,
   "metadata": {},
   "outputs": [],
   "source": [
    "LSTM1_petr4 = function.lstm1(indicadores_petr4_treinamento, indicadores_petr4_teste, target_petr4_treinamento, target_petr4_teste)"
   ]
  },
  {
   "cell_type": "code",
   "execution_count": null,
   "metadata": {},
   "outputs": [],
   "source": [
    "LSTM1_itub4 = function.lstm1(indicadores_itub4_treinamento, indicadores_itub4_teste, target_itub4_treinamento, target_itub4_teste)"
   ]
  },
  {
   "cell_type": "code",
   "execution_count": null,
   "metadata": {},
   "outputs": [],
   "source": [
    "LSTM2_mglu3 = function.lstm2(indicadores_mglu3_treinamento, indicadores_mglu3_teste, target_mglu3_treinamento, target_mglu3_teste)"
   ]
  },
  {
   "cell_type": "code",
   "execution_count": null,
   "metadata": {},
   "outputs": [],
   "source": [
    "LSTM2_petr4 = function.lstm2(indicadores_petr4_treinamento, indicadores_petr4_teste, target_petr4_treinamento, target_petr4_teste)"
   ]
  },
  {
   "cell_type": "code",
   "execution_count": null,
   "metadata": {},
   "outputs": [],
   "source": [
    "LSTM2_itub4 = function.lstm2(indicadores_itub4_treinamento, indicadores_itub4_teste, target_itub4_treinamento, target_itub4_teste)"
   ]
  },
  {
   "cell_type": "code",
   "execution_count": null,
   "metadata": {},
   "outputs": [],
   "source": [
    "LSTM3_mglu3 = function.lstm3(indicadores_mglu3_treinamento, indicadores_mglu3_teste, target_mglu3_treinamento, target_mglu3_teste)"
   ]
  },
  {
   "cell_type": "code",
   "execution_count": null,
   "metadata": {},
   "outputs": [],
   "source": [
    "LSTM3_petr4 = function.lstm3(indicadores_petr4_treinamento, indicadores_petr4_teste, target_petr4_treinamento, target_petr4_teste)"
   ]
  },
  {
   "cell_type": "code",
   "execution_count": null,
   "metadata": {},
   "outputs": [],
   "source": [
    "LSTM3_itub4 = function.lstm3(indicadores_itub4_treinamento, indicadores_itub4_teste, target_itub4_treinamento, target_itub4_teste)"
   ]
  },
  {
   "cell_type": "code",
   "execution_count": null,
   "metadata": {},
   "outputs": [],
   "source": [
    "LSTM4_mglu3 = function.lstm4(indicadores_mglu3_treinamento, indicadores_mglu3_teste, target_mglu3_treinamento, target_mglu3_teste)"
   ]
  },
  {
   "cell_type": "code",
   "execution_count": null,
   "metadata": {},
   "outputs": [],
   "source": [
    "LSTM4_petr4 = function.lstm4(indicadores_petr4_treinamento, indicadores_petr4_teste, target_petr4_treinamento, target_petr4_teste)"
   ]
  },
  {
   "cell_type": "code",
   "execution_count": null,
   "metadata": {},
   "outputs": [],
   "source": [
    "LSTM4_itub4 = function.lstm4(indicadores_itub4_treinamento, indicadores_itub4_teste, target_itub4_treinamento, target_itub4_teste)"
   ]
  },
  {
   "cell_type": "code",
   "execution_count": null,
   "metadata": {},
   "outputs": [],
   "source": []
  }
 ],
 "metadata": {
  "kernelspec": {
   "display_name": "Python 3",
   "language": "python",
   "name": "python3"
  },
  "language_info": {
   "codemirror_mode": {
    "name": "ipython",
    "version": 3
   },
   "file_extension": ".py",
   "mimetype": "text/x-python",
   "name": "python",
   "nbconvert_exporter": "python",
   "pygments_lexer": "ipython3",
   "version": "3.8.2"
  }
 },
 "nbformat": 4,
 "nbformat_minor": 4
}
