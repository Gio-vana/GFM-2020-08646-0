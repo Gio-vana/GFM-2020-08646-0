{
 "cells": [
  {
   "cell_type": "code",
   "execution_count": null,
   "metadata": {},
   "outputs": [],
   "source": [
    "loss\n",
    "\n",
    "\n",
    "'KLD','MAE', 'MAPE','MSE'\n",
    "MSLE(...): Computes the mean squared logarithmic error between y_true and y_pred.\n",
    "\n",
    "binary_crossentropy(...): Computes the binary crossentropy loss.\n",
    "\n",
    "categorical_crossentropy(...): Computes the categorical crossentropy loss.\n",
    "\n",
    "categorical_hinge(...): Computes the categorical hinge loss between y_true and y_pred.\n",
    "\n",
    "cosine_similarity(...): Computes the cosine similarity between labels and predictions.\n",
    "\n",
    "deserialize(...): Deserializes a serialized loss class/function instance.\n",
    "\n",
    "get(...): Retrieves a Keras loss as a function/Loss class instance.\n",
    "\n",
    "hinge(...): Computes the hinge loss between y_true and y_pred.\n",
    "\n",
    "huber(...): Computes Huber loss value.\n",
    "\n",
    "kl_divergence(...): Computes Kullback-Leibler divergence loss between y_true and y_pred.\n",
    "\n",
    "kld(...): Computes Kullback-Leibler divergence loss between y_true and y_pred.\n",
    "\n",
    "kullback_leibler_divergence(...): Computes Kullback-Leibler divergence loss between y_true and y_pred.\n",
    "\n",
    "log_cosh(...): Logarithm of the hyperbolic cosine of the prediction error.\n",
    "\n",
    "logcosh(...): Logarithm of the hyperbolic cosine of the prediction error.\n",
    "\n",
    "mae(...): Computes the mean absolute error between labels and predictions.\n",
    "\n",
    "mape(...): Computes the mean absolute percentage error between y_true and y_pred.\n",
    "\n",
    "mean_absolute_error(...): Computes the mean absolute error between labels and predictions.\n",
    "\n",
    "mean_absolute_percentage_error(...): Computes the mean absolute percentage error between y_true and y_pred.\n",
    "\n",
    "mean_squared_error(...): Computes the mean squared error between labels and predictions.\n",
    "\n",
    "mean_squared_logarithmic_error(...): Computes the mean squared logarithmic error between y_true and y_pred.\n",
    "\n",
    "mse(...): Computes the mean squared error between labels and predictions.\n",
    "\n",
    "msle(...): Computes the mean squared logarithmic error between y_true and y_pred.\n",
    "\n",
    "poisson(...): Computes the Poisson loss between y_true and y_pred.\n",
    "\n",
    "serialize(...): Serializes loss function or Loss instance.\n",
    "\n",
    "sparse_categorical_crossentropy(...): Computes the sparse categorical crossentropy loss.\n",
    "\n",
    "squared_hinge(...): Computes the squared hinge loss between y_true and y_pred.\n"
   ]
  },
  {
   "cell_type": "code",
   "execution_count": 1,
   "metadata": {},
   "outputs": [
    {
     "ename": "NameError",
     "evalue": "name 'otimizador' is not defined",
     "output_type": "error",
     "traceback": [
      "\u001b[0;31m---------------------------------------------------------------------------\u001b[0m",
      "\u001b[0;31mNameError\u001b[0m                                 Traceback (most recent call last)",
      "\u001b[0;32m<ipython-input-1-b1157589f05e>\u001b[0m in \u001b[0;36m<module>\u001b[0;34m\u001b[0m\n\u001b[0;32m----> 1\u001b[0;31m \u001b[0motimizador\u001b[0m\u001b[0;34m\u001b[0m\u001b[0;34m\u001b[0m\u001b[0m\n\u001b[0m",
      "\u001b[0;31mNameError\u001b[0m: name 'otimizador' is not defined"
     ]
    }
   ],
   "source": [
    "#otimizador\n",
    "\n",
    "class Adadelta: Optimizer that implements the Adadelta algorithm.\n",
    "\n",
    "class Adagrad: Optimizer that implements the Adagrad algorithm.\n",
    "\n",
    "class Adam: Optimizer that implements the Adam algorithm.\n",
    "\n",
    "class Adamax: Optimizer that implements the Adamax algorithm.\n",
    "\n",
    "class Ftrl: Optimizer that implements the FTRL algorithm.\n",
    "\n",
    "class Nadam: Optimizer that implements the NAdam algorithm.\n",
    "\n",
    "class Optimizer: Base class for Keras optimizers.\n",
    "\n",
    "class RMSprop: Optimizer that implements the RMSprop algorithm.\n",
    "\n",
    "class SGD: Gradient descent (with momentum) optimizer.\n"
   ]
  },
  {
   "cell_type": "code",
   "execution_count": null,
   "metadata": {},
   "outputs": [],
   "source": []
  }
 ],
 "metadata": {
  "kernelspec": {
   "display_name": "Python 3",
   "language": "python",
   "name": "python3"
  },
  "language_info": {
   "codemirror_mode": {
    "name": "ipython",
    "version": 3
   },
   "file_extension": ".py",
   "mimetype": "text/x-python",
   "name": "python",
   "nbconvert_exporter": "python",
   "pygments_lexer": "ipython3",
   "version": "3.8.2"
  }
 },
 "nbformat": 4,
 "nbformat_minor": 4
}
