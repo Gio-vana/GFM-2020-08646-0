{
 "cells": [
  {
   "cell_type": "markdown",
   "metadata": {},
   "source": [
    "# Gerando os indicadores técnicos\n",
    "\n",
    "- __Médias móveis:__ suaviza os preços anteriores para identificar a movimentação dos preços.\n",
    "    - Média móvel(simples e exponencial).\n",
    "- __Tendência:__ indica pontos de reversão de tendência.\n",
    "    - MACD.\n",
    "- __Momento:__ acompanha a taxa de variação dos preços.\n",
    "    - IFR.\n",
    "- __Volatilidade:__ identifica se as variações de preço futuras estão seguindo o mesmo ritmo das variações passadas.\n",
    "    - Bandas de Bollinger.\n",
    "- __Volume:__ determina se a tendência é relevante.\n",
    "    - Osciladores de Chaikin"
   ]
  },
  {
   "cell_type": "code",
   "execution_count": 1,
   "metadata": {},
   "outputs": [],
   "source": [
    "def MMS(dados_historicos, periodo):\n",
    "    #Criando uma janela dos elementos considerados:\n",
    "    janela = dados_historicos['Close'].rolling(window= periodo, center = True)#Decidir se será centrado\n",
    "    #Calculando a média da janela:\n",
    "    media_movel = janela.mean()\n",
    "    dados_historicos['MMS'] = media_movel\n",
    "    \n",
    "    #Problema do Nan:\n",
    "    dados_historicos['MMS'].values[:int(periodo/2)+1]= dados_historicos['MMS'].values[int(periodo/2)+1]\n",
    "    dados_historicos['MMS'].values[-4:]= dados_historicos['MMS'].values[-5]\n",
    "    \n",
    "    #Classificando a média móvel simples:\n",
    "    dif = dados_historicos['MMS'].values[1:]-dados_historicos['MMS'].values[:-1]\n",
    "    dif = np.concatenate([[np.nan], dif])\n",
    "    dados_historicos['DIF_MMS']= dif\n",
    "    dados_historicos['ClasseMMS']= (dados_historicos['DIF_MMS']>0).astype(int)\n",
    "    dados_historicos['ClasseMMS'].values[:1] = 0\n",
    "    return dados_historicos"
   ]
  },
  {
   "cell_type": "code",
   "execution_count": 2,
   "metadata": {},
   "outputs": [],
   "source": [
    "def MME(dados_historicos, periodo, inicio_do_cálculo):\n",
    "    mme = dados_historicos['Close'].ewm(span = periodo, min_periods = inicio_do_cálculo, adjust = True).mean()\n",
    "    dados_historicos['MME'] = mme\n",
    "    \n",
    "    #Problema do Nan:\n",
    "    dados_historicos['MME'].values[:inicio_do_cálculo-1]= dados_historicos['MME'].values[inicio_do_cálculo-1]\n",
    "    \n",
    "    #Classificando a média móvel exponencial:\n",
    "    dif_1 = dados_historicos['MME'].values[1:]-dados_historicos['MME'].values[:-1]\n",
    "    dif_1 = np.concatenate([[np.nan], dif_1])\n",
    "    dados_historicos['DIF_MME']= dif_1\n",
    "    dados_historicos['ClasseMME']= (dados_historicos['DIF_MME']>0).astype(int)\n",
    "    dados_historicos['ClasseMME'].values[:1] = 0\n",
    "    return dados_historicos"
   ]
  },
  {
   "cell_type": "code",
   "execution_count": 3,
   "metadata": {},
   "outputs": [],
   "source": [
    "def MACD (dados_historicos):\n",
    "    #parâmetros da linha macd\n",
    "    mme26 = dados_historicos['Close'].ewm(span = 26, min_periods = 0, adjust = True).mean()\n",
    "    dados_historicos['MME26']=mme26\n",
    "    mme12 = dados_historicos['Close'].ewm(span = 12, min_periods = 0, adjust = True).mean()\n",
    "    dados_historicos['MME12']=mme12\n",
    "    #linha macd\n",
    "    macd = dados_historicos['MME12'] - dados_historicos['MME26']\n",
    "    dados_historicos['MACD'] = macd\n",
    "    \n",
    "    #linha de sinal: mme(9)\n",
    "    #mme9 = dados_historicos['Close'].ewm(span = 9, min_periods = 0, adjust = True).mean()\n",
    "    #dados_historicos['MME9']=mme9\n",
    "    \n",
    "    #Classificando o macd:\n",
    "    dados_historicos['ClasseMACD'] = (dados_historicos['MACD']>0).astype(int)\n",
    "    return dados_historicos"
   ]
  },
  {
   "cell_type": "code",
   "execution_count": 4,
   "metadata": {},
   "outputs": [],
   "source": [
    "# O padrão é utilizar 14 dias, mas também se usa 9 ou 25. \n",
    "\n",
    "def RSI(dados_historicos, periodo):\n",
    "    dados_historicos['RSI'] = tb.RSI(dados_historicos['Close'] , periodo)\n",
    "    \n",
    "    #Classificação:\n",
    "    dados_historicos['ClasseRSI']=1\n",
    "    dados_historicos.loc[dados_historicos['RSI']<50,'ClasseRSI']=0\n",
    "    \n",
    "    #Problema do Nan:\n",
    "    dados_historicos['RSI'].values[:periodo]= dados_historicos['RSI'].values[periodo]\n",
    "    \n",
    "    return dados_historicos"
   ]
  },
  {
   "cell_type": "markdown",
   "metadata": {},
   "source": [
    "# Conjuntos de    treinamento e teste\n"
   ]
  },
  {
   "cell_type": "code",
   "execution_count": 4,
   "metadata": {},
   "outputs": [],
   "source": [
    "def  conjunto_indicadores_treinamento(dados_historicos):\n",
    "    classe = pd.DataFrame()\n",
    "    classe['MMS'] = dados_historicos['MMS'].values[:int(len(dados_historicos)*0.7)+1]\n",
    "    classe['MME'] = dados_historicos['MME'].values[:int(len(dados_historicos)*0.7)+1]\n",
    "    classe['MACD'] = dados_historicos['MACD'].values[:int(len(dados_historicos)*0.7)+1]\n",
    "    classe['RSI'] = dados_historicos['RSI'].values[:int(len(dados_historicos)*0.7)+1]\n",
    "    return classe"
   ]
  },
  {
   "cell_type": "code",
   "execution_count": 5,
   "metadata": {},
   "outputs": [],
   "source": [
    "def  conjunto_indicadores_teste(dados_historicos):\n",
    "    classe_teste = pd.DataFrame()\n",
    "    classe_teste['MMS'] = dados_historicos['MMS'].values[1+int(len(dados_historicos)*0.7):]\n",
    "    classe_teste['MME'] = dados_historicos['MME'].values[1+int(len(dados_historicos)*0.7):]\n",
    "    classe_teste['MACD'] = dados_historicos['MACD'].values[1+int(len(dados_historicos)*0.7):]\n",
    "    classe_teste['RSI'] = dados_historicos['RSI'].values[1+int(len(dados_historicos)*0.7):]\n",
    "    return classe_teste"
   ]
  },
  {
   "cell_type": "markdown",
   "metadata": {},
   "source": [
    "# Rótulos"
   ]
  },
  {
   "cell_type": "code",
   "execution_count": 5,
   "metadata": {},
   "outputs": [],
   "source": [
    "def target(dados_historicos):\n",
    "    soma = dados_historicos['ClasseMMS']+dados_historicos['ClasseMME']+dados_historicos['ClasseMACD']+dados_historicos['ClasseRSI']\n",
    "    dados_historicos['soma'] = soma\n",
    "    dados_historicos['Soma'] = (dados_historicos['soma']>2).astype(int)\n",
    "    return dados_historicos"
   ]
  },
  {
   "cell_type": "code",
   "execution_count": 2,
   "metadata": {},
   "outputs": [],
   "source": [
    "def target_treinamento(dados_historicos):\n",
    "    soma = dados_historicos['ClasseMMS']+dados_historicos['ClasseMME']+dados_historicos['ClasseMACD']+dados_historicos['ClasseRSI']\n",
    "    dados_historicos['soma'] = soma\n",
    "    dados_historicos['Soma'] = (dados_historicos['soma']>2).astype(int)\n",
    "    classe = pd.DataFrame()\n",
    "    classe['target'] = dados_historicos['Soma'].values[:int(len(dados_historicos)*0.7)+1]\n",
    "    return classe"
   ]
  },
  {
   "cell_type": "code",
   "execution_count": 3,
   "metadata": {},
   "outputs": [],
   "source": [
    "def target_teste(dados_historicos):\n",
    "    soma = dados_historicos['ClasseMMS']+dados_historicos['ClasseMME']+dados_historicos['ClasseMACD']+dados_historicos['ClasseRSI']\n",
    "    dados_historicos['soma'] = soma\n",
    "    dados_historicos['Soma'] = (dados_historicos['soma']>2).astype(int)\n",
    "    classe = pd.DataFrame()\n",
    "    classe['target'] = dados_historicos['Soma'].values[int(len(dados_historicos)*0.7)+1:]\n",
    "    return classe"
   ]
  },
  {
   "cell_type": "markdown",
   "metadata": {},
   "source": []
  }
 ],
 "metadata": {
  "kernelspec": {
   "display_name": "Python 3",
   "language": "python",
   "name": "python3"
  },
  "language_info": {
   "codemirror_mode": {
    "name": "ipython",
    "version": 3
   },
   "file_extension": ".py",
   "mimetype": "text/x-python",
   "name": "python",
   "nbconvert_exporter": "python",
   "pygments_lexer": "ipython3",
   "version": "3.8.2"
  }
 },
 "nbformat": 4,
 "nbformat_minor": 4
}
